{
  "nbformat": 4,
  "nbformat_minor": 0,
  "metadata": {
    "colab": {
      "provenance": []
    },
    "kernelspec": {
      "name": "python3",
      "display_name": "Python 3"
    },
    "language_info": {
      "name": "python"
    }
  },
  "cells": [
    {
      "cell_type": "markdown",
      "source": [
        "#Theoretical\n",
        "\n",
        "###1. What is a Decision Tree, and how does it work?\n",
        "\n",
        "ANS:- A decision tree is a flowchart-like structure used in machine learning for both classification and regression tasks.\n",
        "It's a supervised learning algorithm, meaning it learns from labeled data to predict the outcome for new, unseen data.\n",
        "The tree is built by recursively splitting the data into subsets based on the values of different features.\n",
        "\n",
        "**How does a decision tree work?**\n",
        "\n",
        "**1.Start with the entire dataset:-** The algorithm begins with all the data points at the root node.\n",
        "\n",
        "**2.Find the best feature to split on:-** It selects the feature that best separates the data into distinct classes or reduces the variance in the target variable.\n",
        "\n",
        "**3.Create branches:-** The data is split into subsets based on the values of the selected feature. Each subset forms a new branch of the tree.\n",
        "\n",
        "**4.Repeat the process:-** Steps 2 and 3 are repeated recursively for each subset, creating further branches and nodes.\n",
        "\n",
        "**5.Stop when a stopping criterion is met:-** The splitting process stops when a certain depth is reached, the number of data points in a node falls below a threshold, or further splitting does not improve the model's performance significantly.\n",
        "\n",
        "**6.Assign a prediction to each leaf node:-** The final nodes, called leaf nodes, represent the predicted outcome for the data points that fall into that node."
      ],
      "metadata": {
        "id": "CfaxCFREBP-o"
      }
    },
    {
      "cell_type": "markdown",
      "source": [
        "###2. What are impurity measures in Decision Trees?\n",
        "\n",
        "ANS:- Impurity measures are used in decision trees to evaluate how well a feature splits the data into distinct classes or reduces the variance in the target variable. The goal is to find the feature that results in the purest subsets, where most of the data points belong to the same class or have similar target values.\n",
        "\n",
        "Here are two common impurity measures used in decision trees:-\n",
        "\n",
        "**1.Gini Impurity:-**\n",
        "\n",
        "Gini impurity measures the probability of misclassifying a randomly chosen element from a set.\n",
        "It ranges from 0 to 1, where 0 represents perfect purity (all elements belong to the same class) and 1 represents maximum impurity (elements are evenly distributed across different classes).\n",
        "\n",
        "Formula:-\n",
        "\n",
        "    Gini Impurity = 1 - Σ (pᵢ)²\n",
        "\n",
        "    where pᵢ is the proportion of elements belonging to class i.\n",
        "\n",
        "**2.Entropy:-**\n",
        "\n",
        "Entropy measures the uncertainty or randomness in a set.\n",
        "It ranges from 0 to 1, where 0 represents perfect purity (no uncertainty) and 1 represents maximum impurity (highest uncertainty).\n",
        "\n",
        "Formula:-\n",
        "\n",
        "    Entropy = - Σ (pᵢ * log₂(pᵢ))\n",
        "\n",
        "    where pᵢ is the proportion of elements belonging to class i."
      ],
      "metadata": {
        "id": "Xtj67Bdm7QrL"
      }
    },
    {
      "cell_type": "markdown",
      "source": [
        "###3.  What is the mathematical formula for Gini Impurity?\n",
        "\n",
        "ANS:-  \n",
        "    \n",
        "    Gini Impurity = 1 - Σ (pᵢ)²\n",
        "\n",
        "    Where:\n",
        "\n",
        "    pᵢ represents the proportion of elements belonging to class 'i' in the set.\n",
        "    Σ denotes the sum over all classes."
      ],
      "metadata": {
        "id": "nJbn8rOc7wGg"
      }
    },
    {
      "cell_type": "markdown",
      "source": [
        "###4. What is the mathematical formula for Entropy?\n",
        "\n",
        "ANS:-\n",
        "\n",
        "    Entropy = - Σ (pᵢ * log₂(pᵢ))\n",
        "\n",
        "    Where:\n",
        "\n",
        "    pᵢ represents the proportion of elements belonging to class 'i' in the set.\n",
        "    Σ denotes the sum over all classes.\n",
        "    log₂ represents the logarithm base 2."
      ],
      "metadata": {
        "id": "BTJjaqv48D-N"
      }
    },
    {
      "cell_type": "markdown",
      "source": [
        "###5. What is Information Gain, and how is it used in Decision Trees?\n",
        "\n",
        "ANS:- Information gain is a concept used in decision trees to measure the reduction in entropy or impurity achieved by splitting a dataset based on a particular feature. It quantifies the effectiveness of a feature in classifying the data.\n",
        "\n",
        "Information gain is calculated using the following formula:-\n",
        "\n",
        "    Information Gain = Entropy(parent) - [Weighted Average of Entropy(children)]\n",
        "\n",
        "    Where:\n",
        "\n",
        "    Entropy(parent) is the entropy of the dataset before the split.\n",
        "    Entropy(children) is the entropy of each child node after the split.\n",
        "    Weighted Average is calculated by multiplying the entropy of each child node by the proportion of data points in that node.\n",
        "\n",
        "**How is Information Gain used in Decision Trees?**\n",
        "\n",
        "**1.Feature Selection:-** When building a decision tree, the algorithm evaluates the information gain for each feature.\n",
        "Splitting Criterion: The feature with the highest information gain is selected as the splitting criterion for the current node.\n",
        "\n",
        "**2.Recursive Process:-** The process is repeated recursively for each child node until a stopping criterion is met (e.g., maximum depth, minimum number of samples)."
      ],
      "metadata": {
        "id": "ZLmvBBFa8VCc"
      }
    },
    {
      "cell_type": "markdown",
      "source": [
        "###6. What is the difference between Gini Impurity and Entropy?\n",
        "\n",
        "ANS:- Both Gini Impurity and Entropy are used in decision trees as impurity measures to evaluate the quality of a split. However, they differ in their calculations and interpretations:-\n",
        "\n",
        "**Gini Impurity:-**\n",
        "\n",
        "Formula:- Gini Impurity = 1 - Σ (pᵢ)²\n",
        "\n",
        "Interpretation:- Measures the probability of misclassifying a randomly chosen element from a set.\n",
        "\n",
        "Range:- 0 to 1, where 0 represents perfect purity and 1 represents maximum impurity.\n",
        "\n",
        "Calculation:- Simpler and faster to compute as it involves only basic arithmetic operations.\n",
        "\n",
        "**Entropy:-**\n",
        "\n",
        "Formula:- Entropy = - Σ (pᵢ * log₂(pᵢ))\n",
        "\n",
        "Interpretation:- Measures the uncertainty or randomness in a set.\n",
        "\n",
        "Range:- 0 to 1, where 0 represents perfect purity and 1 represents maximum impurity.\n",
        "\n",
        "Calculation:- More computationally expensive as it involves logarithmic calculations."
      ],
      "metadata": {
        "id": "72ELNwPW83aR"
      }
    },
    {
      "cell_type": "markdown",
      "source": [
        "###7. What is the mathematical explanation behind Decision Trees?\n",
        "\n",
        "ANS:- Decision trees utilize mathematical concepts to build a tree-like structure that can be used for classification or regression tasks. Here's a breakdown of the key mathematical principles involved:-\n",
        "\n",
        "**1.Impurity Measures:-**\n",
        "\n",
        "Decision trees aim to minimize impurity at each node, ensuring that the data points within a node are as homogeneous as possible with respect to the target variable.\n",
        "Gini Impurity and Entropy are two commonly used impurity measures, as discussed previously.The formulas for Gini Impurity and Entropy are used to quantify the impurity of a node based on the distribution of classes or values within that node.\n",
        "\n",
        "**2.Information Gain:-**\n",
        "\n",
        "Information gain is used to determine the best feature to split the data at each node.It measures the reduction in impurity achieved by splitting the data based on a particular feature.The formula for information gain involves calculating the entropy of the parent node and the weighted average entropy of the child nodes after the split.The feature that maximizes information gain is selected as the splitting criterion for the current node.\n",
        "\n",
        "**3.Recursive Partitioning:-**\n",
        "\n",
        "Decision trees are built using a recursive partitioning approach.Starting with the root node, the algorithm selects the best feature to split the data based on information gain.\n",
        "The data is then partitioned into subsets, and the process is repeated recursively for each subset until a stopping criterion is met.This recursive process results in a tree-like structure, where each node represents a decision based on a feature, and each leaf node represents a prediction.\n",
        "\n",
        "**4.Pruning:-**\n",
        "\n",
        "Pruning is a technique used to prevent overfitting in decision trees.It involves removing branches or nodes that do not significantly improve the model's performance on unseen data.Pruning can be based on various criteria, such as the minimum number of samples in a node or the complexity of the tree.\n",
        "\n",
        "**5.Prediction:-**\n",
        "\n",
        "Once the decision tree is built, it can be used to predict the outcome for new, unseen data points.The prediction is made by traversing the tree from the root node to a leaf node based on the values of the features in the data point.The prediction at the leaf node is the predicted outcome for the data point."
      ],
      "metadata": {
        "id": "Hda75jz9-Bjd"
      }
    },
    {
      "cell_type": "markdown",
      "source": [
        "###8.  What is Pre-Pruning in Decision Tree?\n",
        "\n",
        "ANS:- Pre-Pruning, also known as early stopping, is a technique used in decision tree learning to prevent overfitting by stopping the tree growth early before it becomes too complex.\n",
        "\n",
        "**Common Pre-Pruning Criteria:-**\n",
        "\n",
        "**1.Maximum Depth:-** Limit the maximum depth or levels of the tree.\n",
        "\n",
        "**2.Minimum Samples Split:-** Specify the minimum number of samples required to split a node.\n",
        "\n",
        "**3.Minimum Samples Leaf:-** Specify the minimum number of samples required to be at a leaf node.\n",
        "\n",
        "**4.Maximum Leaf Nodes:-** Limit the maximum number of leaf nodes in the tree.\n",
        "\n",
        "**5.Maximum Features:-** Limit the number of features considered for splitting at each node.\n",
        "\n",
        "**Benefits of Pre-Pruning:-**\n",
        "\n",
        "**1.Reduces Overfitting:-** By stopping the tree growth early, it prevents the tree from becoming too complex and memorizing the training data.\n",
        "\n",
        "**2.Improves Generalization:-** It helps the tree generalize better to unseen data.\n",
        "\n",
        "**3.Reduces Complexity:-** It results in a simpler and more interpretable tree.\n",
        "\n",
        "**4.Faster Training:-** It can reduce the training time as the tree is not fully grown.\n",
        "\n",
        "**Drawbacks of Pre-Pruning:-**\n",
        "\n",
        "**1.Potential Underfitting:-** If the stopping criteria are too strict, it might prevent the tree from learning important patterns in the data.\n",
        "\n",
        "**2.Difficult to Tune:-** Finding the optimal pre-pruning parameters can be challenging and require experimentation."
      ],
      "metadata": {
        "id": "OipiHJNC-7e7"
      }
    },
    {
      "cell_type": "markdown",
      "source": [
        "###9. What is Post-Pruning in Decision Trees?\n",
        "\n",
        "ANS:- Post-Pruning is a technique used in decision tree learning to address overfitting by removing or collapsing nodes after the tree has been fully grown. It's also known as backward pruning or cost-complexity pruning.\n",
        "\n",
        "**Common Post-Pruning Techniques:-**\n",
        "\n",
        "**1.Reduced Error Pruning:-** This technique iteratively removes nodes that do not improve the tree's accuracy on a validation set.\n",
        "\n",
        "**2.Cost-Complexity Pruning:-** This technique uses a cost-complexity parameter to balance the tree's size and accuracy. It involves calculating a cost for each subtree based on its size and error rate, and then pruning subtrees with the highest cost.\n",
        "\n",
        "**Benefits of Post-Pruning:-**\n",
        "\n",
        "**1.Addresses Overfitting:-** By removing unnecessary nodes, it helps reduce overfitting and improve generalization.\n",
        "\n",
        "**2.More Flexible:-** It allows the tree to grow fully before pruning, potentially capturing more complex patterns in the data.\n",
        "\n",
        "**3.Better Accuracy:-** It can lead to more accurate models compared to pre-pruning, as it considers the tree's overall structure during pruning.\n",
        "\n",
        "**Drawbacks of Post-Pruning:-**\n",
        "\n",
        "**1.Computational Cost:-** Post-pruning can be more computationally expensive than pre-pruning, as it requires building the full tree before pruning.\n",
        "\n",
        "**2.Complexity:-** The process of selecting the optimal pruning parameters can be complex and require careful evaluation."
      ],
      "metadata": {
        "id": "SwfVF42FAihu"
      }
    },
    {
      "cell_type": "markdown",
      "source": [
        "###10.What is the difference between Pre-Pruning and Post-Pruning?\n",
        "\n",
        "ANS:- Both pre-pruning and post-pruning are techniques used to address overfitting in decision trees, but they differ in their approach and timing:-\n",
        "\n",
        "**Pre-Pruning:-**\n",
        "\n",
        "Timing:- Applied during the tree construction process.\n",
        "\n",
        "Approach:- Stops the tree growth early by setting stopping criteria.\n",
        "\n",
        "Focus:- Prevents the tree from becoming too complex in the first place.\n",
        "\n",
        "Advantages:- Simpler, faster, reduces overfitting.\n",
        "\n",
        "Disadvantages:- May lead to underfitting if stopping criteria are too strict.\n",
        "\n",
        "**Post-Pruning:-**\n",
        "\n",
        "Timing:- Applied after the tree has been fully grown.\n",
        "\n",
        "Approach:- Removes or collapses nodes that do not contribute significantly to performance.\n",
        "\n",
        "Focus:- Optimizes the tree structure by selectively removing unnecessary parts.\n",
        "\n",
        "Advantages:- More flexible, potentially better accuracy, addresses overfitting.\n",
        "\n",
        "Disadvantages:- More computationally expensive, requires careful selection of pruning parameters."
      ],
      "metadata": {
        "id": "wRtTgIg0CFkH"
      }
    },
    {
      "cell_type": "markdown",
      "source": [
        "###11.  What is a Decision Tree Regressor?\n",
        "\n",
        "ANS:- A Decision Tree Regressor is a type of decision tree algorithm used for solving regression problems, where the target variable is continuous rather than categorical.\n",
        "\n",
        "**How it works:-**\n",
        "\n",
        "**1.Tree Construction:-** Similar to classification trees, a decision tree regressor builds a tree-like structure by recursively splitting the data based on features. However, instead of predicting class labels, it predicts a continuous value for the target variable.\n",
        "\n",
        "**2.Leaf Node Prediction:-** At each leaf node, the regressor predicts the average or median value of the target variable for the data points that fall into that node.\n",
        "\n",
        "**3.Prediction for New Data:-** When predicting for new data, the regressor traverses the tree based on the feature values of the input data and reaches a leaf node. The predicted value for the new data is the average or median value associated with that leaf node."
      ],
      "metadata": {
        "id": "ZtTJCcMNDBk_"
      }
    },
    {
      "cell_type": "markdown",
      "source": [
        "###12. What are the advantages and disadvantages of Decision Trees?\n",
        "\n",
        "ANS:- **Advantages:-**\n",
        "\n",
        "**1.Easy to understand and interpret:-** Decision trees are easy to visualize and understand, making them transparent and interpretable. This is particularly important in applications where the decision-making process needs to be explained to stakeholders.\n",
        "\n",
        "**2.Requires little data preparation:-** Decision trees can handle both numerical and categorical data without the need for extensive data preprocessing, such as normalization or scaling.\n",
        "\n",
        "**3.Non-parametric:-** Decision trees are non-parametric models, meaning they do not make assumptions about the underlying data distribution. This makes them robust to outliers and data with complex relationships.\n",
        "\n",
        "**4.Handles both classification and regression:-** Decision trees can be used for both classification and regression tasks, making them versatile for various machine learning problems.\n",
        "\n",
        "**5.Can handle missing values:-** Some decision tree algorithms can handle missing values in the data without requiring imputation.\n",
        "\n",
        "**6.Fast training:-** Decision trees are relatively fast to train, especially compared to more complex models.\n",
        "\n",
        "**Disadvantages:-**\n",
        "\n",
        "**1.Prone to overfitting:-** Decision trees can easily overfit the training data, leading to poor generalization performance on unseen data. This can be mitigated using techniques like pruning or ensemble methods.\n",
        "\n",
        "**2.Instability:-** Small changes in the data can lead to significant changes in the tree structure, making the model unstable. This can be addressed by using ensemble methods like random forests.\n",
        "\n",
        "**3.Can be biased:-** Decision trees can be biased towards features with more levels or categories. This can be mitigated by using techniques like feature scaling or balancing the dataset.\n",
        "\n",
        "**4.Limited expressiveness:-** Decision trees may not be able to capture complex relationships between features and the target variable, especially when the relationships are non-linear or involve interactions between multiple features.\n",
        "\n",
        "**5.Difficult to handle continuous variables:-** While decision trees can handle continuous variables, they tend to create splits that are not smooth, leading to potentially less accurate predictions."
      ],
      "metadata": {
        "id": "xb-ewIdhDc7w"
      }
    },
    {
      "cell_type": "markdown",
      "source": [
        "###13. How does a Decision Tree handle missing values?\n",
        "\n",
        "ANS:- **Strategies for Handling Missing Values in Decision Trees**\n",
        "\n",
        "Decision trees employ various strategies to handle missing values during both the tree construction and prediction phases. Here are the two main approaches:-\n",
        "\n",
        "**1. Ignoring Missing Values during Tree Construction**\n",
        "\n",
        "Method:- The simplest approach is to ignore data points with missing values for a specific feature when considering that feature for a split.\n",
        "\n",
        "Reasoning:- This strategy avoids the need for imputation or complex calculations, but it may lead to loss of information if the missing values are not randomly distributed.\n",
        "\n",
        "Example:- If a data point has a missing value for the feature \"age\" and the algorithm is evaluating \"age\" for a split, that data point will be excluded from consideration for that particular split.\n",
        "\n",
        "**2. Surrogate Splits**\n",
        "\n",
        "Method:- For each split based on a feature, the algorithm identifies surrogate features that have similar splitting patterns to the original feature.\n",
        "\n",
        "Reasoning:- Surrogate features act as substitutes for the original feature when it has missing values. During prediction, if the primary feature is missing, the tree uses the surrogate feature to guide the decision.\n",
        "\n",
        "Example:- If the primary feature \"age\" is missing, a surrogate feature \"income\" might be used if it has a similar splitting pattern to \"age\" in the training data."
      ],
      "metadata": {
        "id": "5a9vOU8DEhdU"
      }
    },
    {
      "cell_type": "markdown",
      "source": [
        "###14. How does a Decision Tree handle categorical features?\n",
        "\n",
        "ANS:- **Handling Categorical Features in Decision Trees:-**\n",
        "\n",
        "Decision Trees can handle categorical features without the need for one-hot encoding in some cases. Here's how:-\n",
        "\n",
        "**1.Binary Split for Categorical Features:-**\n",
        "\n",
        "For a categorical feature with 'n' unique categories, the Decision Tree algorithm considers all possible binary splits.\n",
        "\n",
        "Each split divides the data into two subsets based on whether the data point belongs to a specific category or not.\n",
        "\n",
        "For example, if a feature 'color' has categories 'red', 'green', and 'blue', possible splits could be:-\n",
        "  \n",
        "'red' vs. ('green', 'blue')\n",
        "\n",
        "'green' vs. ('red', 'blue')\n",
        "\n",
        "'blue' vs. ('red', 'green')\n",
        "\n",
        "The algorithm selects the split that maximizes the Information Gain or minimizes the Gini Impurity.\n",
        "\n",
        "**2.Multi-way Split for Categorical Features:-**\n",
        "\n",
        "Some Decision Tree implementations also support multi-way splits for categorical features.\n",
        "\n",
        "In this case, the tree creates a separate branch for each category of the feature.\n",
        "\n",
        "This can be more efficient than binary splits when the number of categories is small.\n",
        "\n",
        "**3.Encoding for High-Cardinality Categorical Features:-**\n",
        "\n",
        "When dealing with categorical features having a high number of unique categories (high cardinality), binary or multi-way splits can lead to a very complex tree.\n",
        "\n",
        "In such cases, encoding techniques like Target Encoding or Frequency Encoding might be used to transform the categorical feature into numerical representations before building the Decision Tree."
      ],
      "metadata": {
        "id": "JXqaQS1RFZZs"
      }
    },
    {
      "cell_type": "markdown",
      "source": [
        "###15. What are some real-world applications of Decision Trees?\n",
        "\n",
        "ANS:- Decision Trees are versatile and have found applications in various domains:-\n",
        "\n",
        "**1.Customer Relationship Management (CRM):-**\n",
        "\n",
        "Customer Churn Prediction:- Predicting which customers are likely to churn (cancel their subscription or switch to a competitor) based on their demographics, purchase history, and interactions with the company.\n",
        "\n",
        "Customer Segmentation:- Grouping customers into different segments based on their characteristics and preferences to target them with personalized marketing campaigns.\n",
        "\n",
        "**2.Healthcare:-**\n",
        "\n",
        "Disease Diagnosis:- Assisting doctors in diagnosing diseases based on patient symptoms, medical history, and test results.\n",
        "\n",
        "Treatment Planning:- Recommending personalized treatment plans for patients based on their individual characteristics and the predicted effectiveness of different treatments.\n",
        "\n",
        "**3.Finance:-**\n",
        "\n",
        "Credit Risk Assessment:- Evaluating the creditworthiness of loan applicants based on their financial history, income, and other factors.\n",
        "\n",
        "Fraud Detection:- Identifying fraudulent transactions based on patterns and anomalies in financial data.\n",
        "\n",
        "**4.Marketing:-**\n",
        "\n",
        "Targeted Advertising:- Identifying the most effective advertising channels and targeting specific customer segments with relevant ads.\n",
        "\n",
        "Product Recommendation:- Recommending products to customers based on their past purchases, browsing history, and preferences.\n",
        "\n",
        "**5.Operations Management:-**\n",
        "\n",
        "Inventory Optimization:- Determining the optimal inventory levels for products based on demand forecasts and supply chain constraints.\n",
        "\n",
        "Resource Allocation:- Allocating resources efficiently across different tasks and projects based on priorities and constraints.\n",
        "\n",
        "**6.Natural Language Processing (NLP):-**\n",
        "\n",
        "Text Classification:- Categorizing text documents into different topics or sentiments based on their content.\n",
        "\n",
        "Sentiment Analysis:- Determining the sentiment expressed in text data, such as customer reviews or social media posts.\n",
        "\n",
        "**7.Image Recognition:-**\n",
        "\n",
        "Object Detection:- Identifying and classifying objects within images based on their features.\n",
        "\n",
        "Image Segmentation:- Dividing images into different regions based on their content.\n"
      ],
      "metadata": {
        "id": "Y9gbxxuVG2H4"
      }
    },
    {
      "cell_type": "markdown",
      "source": [
        "#Practical\n",
        "\n",
        "###16. Write a Python program to train a Decision Tree Classifier on the Iris dataset and print the model accuracy."
      ],
      "metadata": {
        "id": "p9SmziwuIcak"
      }
    },
    {
      "cell_type": "code",
      "source": [
        "from sklearn import datasets\n",
        "from sklearn.model_selection import train_test_split\n",
        "from sklearn.tree import DecisionTreeClassifier\n",
        "from sklearn.metrics import accuracy_score\n",
        "\n",
        "# Load the Iris dataset\n",
        "iris = datasets.load_iris()\n",
        "X, y = iris.data, iris.target\n",
        "\n",
        "# Split the dataset into training and testing sets\n",
        "X_train, X_test, y_train, y_test = train_test_split(X, y, test_size=0.2, random_state=42)\n",
        "\n",
        "# Create and train the Decision Tree Classifier\n",
        "clf = DecisionTreeClassifier()\n",
        "clf.fit(X_train, y_train)\n",
        "\n",
        "# Make predictions\n",
        "y_pred = clf.predict(X_test)\n",
        "\n",
        "# Calculate and print accuracy\n",
        "accuracy = accuracy_score(y_test, y_pred)\n",
        "print(f\"Model Accuracy: {accuracy:.2f}\")\n"
      ],
      "metadata": {
        "colab": {
          "base_uri": "https://localhost:8080/"
        },
        "id": "hGHodijeIn_T",
        "outputId": "459cc994-6706-4e95-e5a2-59a79629aac8"
      },
      "execution_count": 1,
      "outputs": [
        {
          "output_type": "stream",
          "name": "stdout",
          "text": [
            "Model Accuracy: 1.00\n"
          ]
        }
      ]
    },
    {
      "cell_type": "markdown",
      "source": [
        "###17. Write a Python program to train a Decision Tree Classifier using Gini Impurity as the criterion and print the feature importances."
      ],
      "metadata": {
        "id": "tRHHAzzUI3qA"
      }
    },
    {
      "cell_type": "code",
      "source": [
        "from sklearn import datasets\n",
        "from sklearn.model_selection import train_test_split\n",
        "from sklearn.tree import DecisionTreeClassifier\n",
        "from sklearn.metrics import accuracy_score\n",
        "\n",
        "# Load the Iris dataset\n",
        "iris = datasets.load_iris()\n",
        "X, y = iris.data, iris.target\n",
        "\n",
        "# Split the dataset into training and testing sets\n",
        "X_train, X_test, y_train, y_test = train_test_split(X, y, test_size=0.2, random_state=42)\n",
        "\n",
        "# Create and train the Decision Tree Classifier using Gini Impurity\n",
        "clf = DecisionTreeClassifier(criterion='gini')\n",
        "clf.fit(X_train, y_train)\n",
        "\n",
        "# Make predictions\n",
        "y_pred = clf.predict(X_test)\n",
        "\n",
        "# Calculate and print accuracy\n",
        "accuracy = accuracy_score(y_test, y_pred)\n",
        "print(f\"Model Accuracy: {accuracy:.2f}\")\n",
        "\n",
        "# Print feature importances\n",
        "print(\"Feature Importances:\")\n",
        "for feature, importance in zip(iris.feature_names, clf.feature_importances_):\n",
        "    print(f\"{feature}: {importance:.4f}\")\n"
      ],
      "metadata": {
        "colab": {
          "base_uri": "https://localhost:8080/"
        },
        "id": "VPSkX0o7JV2w",
        "outputId": "0d58f948-afbb-4782-9547-b7b7842ea078"
      },
      "execution_count": 2,
      "outputs": [
        {
          "output_type": "stream",
          "name": "stdout",
          "text": [
            "Model Accuracy: 1.00\n",
            "Feature Importances:\n",
            "sepal length (cm): 0.0000\n",
            "sepal width (cm): 0.0167\n",
            "petal length (cm): 0.4059\n",
            "petal width (cm): 0.5774\n"
          ]
        }
      ]
    },
    {
      "cell_type": "markdown",
      "source": [
        "###18. Write a Python program to train a Decision Tree Classifier using Entropy as the splitting criterion and print the model accuracy."
      ],
      "metadata": {
        "id": "Noeukom2Jgqv"
      }
    },
    {
      "cell_type": "code",
      "source": [
        "from sklearn import datasets\n",
        "from sklearn.model_selection import train_test_split\n",
        "from sklearn.tree import DecisionTreeClassifier\n",
        "from sklearn.metrics import accuracy_score\n",
        "\n",
        "# Load the Iris dataset\n",
        "iris = datasets.load_iris()\n",
        "X, y = iris.data, iris.target\n",
        "\n",
        "# Split the dataset into training and testing sets\n",
        "X_train, X_test, y_train, y_test = train_test_split(X, y, test_size=0.2, random_state=42)\n",
        "\n",
        "# Create and train the Decision Tree Classifier using Entropy\n",
        "clf = DecisionTreeClassifier(criterion='entropy')\n",
        "clf.fit(X_train, y_train)\n",
        "\n",
        "# Make predictions\n",
        "y_pred = clf.predict(X_test)\n",
        "\n",
        "# Calculate and print accuracy\n",
        "accuracy = accuracy_score(y_test, y_pred)\n",
        "print(f\"Model Accuracy: {accuracy:.2f}\")\n",
        "\n",
        "# Print feature importances\n",
        "print(\"Feature Importances:\")\n",
        "for feature, importance in zip(iris.feature_names, clf.feature_importances_):\n",
        "    print(f\"{feature}: {importance:.4f}\")"
      ],
      "metadata": {
        "colab": {
          "base_uri": "https://localhost:8080/"
        },
        "id": "6VgrdOKyJlol",
        "outputId": "825c4f30-7d0f-4ccc-c842-3284ce545d23"
      },
      "execution_count": 3,
      "outputs": [
        {
          "output_type": "stream",
          "name": "stdout",
          "text": [
            "Model Accuracy: 1.00\n",
            "Feature Importances:\n",
            "sepal length (cm): 0.0145\n",
            "sepal width (cm): 0.0000\n",
            "petal length (cm): 0.3159\n",
            "petal width (cm): 0.6696\n"
          ]
        }
      ]
    },
    {
      "cell_type": "markdown",
      "source": [
        "###19.  Write a Python program to train a Decision Tree Regressor on a housing dataset and evaluate using Mean Squared Error (MSE)."
      ],
      "metadata": {
        "id": "JRWghd_TJvcj"
      }
    },
    {
      "cell_type": "code",
      "source": [
        "from sklearn import datasets\n",
        "from sklearn.model_selection import train_test_split\n",
        "from sklearn.tree import DecisionTreeRegressor\n",
        "from sklearn.metrics import mean_squared_error\n",
        "import numpy as np\n",
        "\n",
        "# Load the California housing dataset\n",
        "housing = datasets.fetch_california_housing()\n",
        "X, y = housing.data, housing.target\n",
        "\n",
        "# Split the dataset into training and testing sets\n",
        "X_train, X_test, y_train, y_test = train_test_split(X, y, test_size=0.2, random_state=42)\n",
        "\n",
        "# Create and train the Decision Tree Regressor\n",
        "regressor = DecisionTreeRegressor()\n",
        "regressor.fit(X_train, y_train)\n",
        "\n",
        "# Make predictions\n",
        "y_pred = regressor.predict(X_test)\n",
        "\n",
        "# Calculate and print Mean Squared Error (MSE)\n",
        "mse = mean_squared_error(y_test, y_pred)\n",
        "print(f\"Mean Squared Error: {mse:.4f}\")\n",
        "\n",
        "# Print feature importances\n",
        "print(\"Feature Importances:\")\n",
        "for feature, importance in zip(housing.feature_names, regressor.feature_importances_):\n",
        "    print(f\"{feature}: {importance:.4f}\")\n"
      ],
      "metadata": {
        "colab": {
          "base_uri": "https://localhost:8080/"
        },
        "id": "OHYyxZfbJ0-b",
        "outputId": "5e7bfac4-1510-40d5-e586-96242f14f8d4"
      },
      "execution_count": 4,
      "outputs": [
        {
          "output_type": "stream",
          "name": "stdout",
          "text": [
            "Mean Squared Error: 0.4973\n",
            "Feature Importances:\n",
            "MedInc: 0.5277\n",
            "HouseAge: 0.0521\n",
            "AveRooms: 0.0545\n",
            "AveBedrms: 0.0281\n",
            "Population: 0.0301\n",
            "AveOccup: 0.1309\n",
            "Latitude: 0.0929\n",
            "Longitude: 0.0837\n"
          ]
        }
      ]
    },
    {
      "cell_type": "markdown",
      "source": [
        "###20.Write a Python program to train a Decision Tree Classifier and visualize the tree using graphviz."
      ],
      "metadata": {
        "id": "2GwwhCukJ8Cw"
      }
    },
    {
      "cell_type": "code",
      "source": [
        "from sklearn import datasets\n",
        "from sklearn.model_selection import train_test_split\n",
        "from sklearn.tree import DecisionTreeClassifier, export_graphviz\n",
        "from sklearn.metrics import accuracy_score\n",
        "import graphviz\n",
        "import numpy as np\n",
        "\n",
        "# Load the Iris dataset\n",
        "iris = datasets.load_iris()\n",
        "X, y = iris.data, iris.target\n",
        "\n",
        "# Split the dataset into training and testing sets\n",
        "X_train, X_test, y_train, y_test = train_test_split(X, y, test_size=0.2, random_state=42)\n",
        "\n",
        "# Create and train the Decision Tree Classifier\n",
        "clf = DecisionTreeClassifier()\n",
        "clf.fit(X_train, y_train)\n",
        "\n",
        "# Make predictions\n",
        "y_pred = clf.predict(X_test)\n",
        "\n",
        "# Calculate and print accuracy\n",
        "accuracy = accuracy_score(y_test, y_pred)\n",
        "print(f\"Model Accuracy: {accuracy:.2f}\")\n",
        "\n",
        "# Visualize the Decision Tree\n",
        "dot_data = export_graphviz(clf, out_file=None, feature_names=iris.feature_names, class_names=iris.target_names,\n",
        "                           filled=True, rounded=True, special_characters=True)\n",
        "graph = graphviz.Source(dot_data)\n",
        "graph.render(\"decision_tree\")\n",
        "\n",
        "# Print feature importances\n",
        "print(\"Feature Importances:\")\n",
        "for feature, importance in zip(iris.feature_names, clf.feature_importances_):\n",
        "    print(f\"{feature}: {importance:.4f}\")\n"
      ],
      "metadata": {
        "colab": {
          "base_uri": "https://localhost:8080/"
        },
        "id": "g5UN2beSKLoJ",
        "outputId": "ccf8c0a3-f5b6-4449-8a9c-900a2e53ad44"
      },
      "execution_count": 6,
      "outputs": [
        {
          "output_type": "stream",
          "name": "stdout",
          "text": [
            "Model Accuracy: 1.00\n",
            "Feature Importances:\n",
            "sepal length (cm): 0.0167\n",
            "sepal width (cm): 0.0167\n",
            "petal length (cm): 0.3893\n",
            "petal width (cm): 0.5774\n"
          ]
        }
      ]
    },
    {
      "cell_type": "markdown",
      "source": [
        "###21. Write a Python program to train a Decision Tree Classifier with a maximum depth of 3 and compare its accuracy with a fully grown tree."
      ],
      "metadata": {
        "id": "e4KcroMaKfdi"
      }
    },
    {
      "cell_type": "code",
      "source": [
        "from sklearn import datasets\n",
        "from sklearn.model_selection import train_test_split\n",
        "from sklearn.tree import DecisionTreeClassifier, export_graphviz\n",
        "from sklearn.metrics import accuracy_score\n",
        "import graphviz\n",
        "import numpy as np\n",
        "\n",
        "# Load the Iris dataset\n",
        "iris = datasets.load_iris()\n",
        "X, y = iris.data, iris.target\n",
        "\n",
        "# Split the dataset into training and testing sets\n",
        "X_train, X_test, y_train, y_test = train_test_split(X, y, test_size=0.2, random_state=42)\n",
        "\n",
        "# Create and train a Decision Tree Classifier with max depth of 3\n",
        "clf_limited = DecisionTreeClassifier(max_depth=3)\n",
        "clf_limited.fit(X_train, y_train)\n",
        "\n",
        "# Create and train a fully grown Decision Tree Classifier\n",
        "clf_full = DecisionTreeClassifier()\n",
        "clf_full.fit(X_train, y_train)\n",
        "\n",
        "# Make predictions\n",
        "y_pred_limited = clf_limited.predict(X_test)\n",
        "y_pred_full = clf_full.predict(X_test)\n",
        "\n",
        "# Calculate and print accuracy\n",
        "accuracy_limited = accuracy_score(y_test, y_pred_limited)\n",
        "accuracy_full = accuracy_score(y_test, y_pred_full)\n",
        "print(f\"Accuracy with max depth 3: {accuracy_limited:.2f}\")\n",
        "print(f\"Accuracy with fully grown tree: {accuracy_full:.2f}\")\n",
        "\n",
        "# Visualize the Decision Tree with max depth of 3\n",
        "dot_data_limited = export_graphviz(clf_limited, out_file=None, feature_names=iris.feature_names,\n",
        "                                   class_names=iris.target_names, filled=True, rounded=True, special_characters=True)\n",
        "graph_limited = graphviz.Source(dot_data_limited)\n",
        "graph_limited.render(\"decision_tree_limited\")\n",
        "\n",
        "# Visualize the fully grown Decision Tree\n",
        "dot_data_full = export_graphviz(clf_full, out_file=None, feature_names=iris.feature_names,\n",
        "                                class_names=iris.target_names, filled=True, rounded=True, special_characters=True)\n",
        "graph_full = graphviz.Source(dot_data_full)\n",
        "graph_full.render(\"decision_tree_full\")\n",
        "\n",
        "# Print feature importances for both models\n",
        "print(\"Feature Importances (max depth 3):\")\n",
        "for feature, importance in zip(iris.feature_names, clf_limited.feature_importances_):\n",
        "    print(f\"{feature}: {importance:.4f}\")\n",
        "\n",
        "print(\"Feature Importances (fully grown tree):\")\n",
        "for feature, importance in zip(iris.feature_names, clf_full.feature_importances_):\n",
        "    print(f\"{feature}: {importance:.4f}\")\n"
      ],
      "metadata": {
        "colab": {
          "base_uri": "https://localhost:8080/"
        },
        "id": "LVKq15SnLmbc",
        "outputId": "c4c2b769-8b29-443e-fce8-00b41d9e708d"
      },
      "execution_count": 7,
      "outputs": [
        {
          "output_type": "stream",
          "name": "stdout",
          "text": [
            "Accuracy with max depth 3: 1.00\n",
            "Accuracy with fully grown tree: 1.00\n",
            "Feature Importances (max depth 3):\n",
            "sepal length (cm): 0.0000\n",
            "sepal width (cm): 0.0000\n",
            "petal length (cm): 0.9346\n",
            "petal width (cm): 0.0654\n",
            "Feature Importances (fully grown tree):\n",
            "sepal length (cm): 0.0000\n",
            "sepal width (cm): 0.0167\n",
            "petal length (cm): 0.4059\n",
            "petal width (cm): 0.5774\n"
          ]
        }
      ]
    },
    {
      "cell_type": "markdown",
      "source": [
        "###22. Write a Python program to train a Decision Tree Classifier using min_samples_split=5 and compare its accuracy with a default tree."
      ],
      "metadata": {
        "id": "JCXzQndVMP6r"
      }
    },
    {
      "cell_type": "code",
      "source": [
        "from sklearn import datasets\n",
        "from sklearn.model_selection import train_test_split\n",
        "from sklearn.tree import DecisionTreeClassifier, export_graphviz\n",
        "from sklearn.metrics import accuracy_score\n",
        "import graphviz\n",
        "import numpy as np\n",
        "\n",
        "# Load the Iris dataset\n",
        "iris = datasets.load_iris()\n",
        "X, y = iris.data, iris.target\n",
        "\n",
        "# Split the dataset into training and testing sets\n",
        "X_train, X_test, y_train, y_test = train_test_split(X, y, test_size=0.2, random_state=42)\n",
        "\n",
        "# Create and train a Decision Tree Classifier with min_samples_split=5\n",
        "clf_limited = DecisionTreeClassifier(min_samples_split=5)\n",
        "clf_limited.fit(X_train, y_train)\n",
        "\n",
        "# Create and train a default Decision Tree Classifier\n",
        "clf_default = DecisionTreeClassifier()\n",
        "clf_default.fit(X_train, y_train)\n",
        "\n",
        "# Make predictions\n",
        "y_pred_limited = clf_limited.predict(X_test)\n",
        "y_pred_default = clf_default.predict(X_test)\n",
        "\n",
        "# Calculate and print accuracy\n",
        "accuracy_limited = accuracy_score(y_test, y_pred_limited)\n",
        "accuracy_default = accuracy_score(y_test, y_pred_default)\n",
        "print(f\"Accuracy with min_samples_split=5: {accuracy_limited:.2f}\")\n",
        "print(f\"Accuracy with default tree: {accuracy_default:.2f}\")\n",
        "\n",
        "# Visualize the Decision Tree with min_samples_split=5\n",
        "dot_data_limited = export_graphviz(clf_limited, out_file=None, feature_names=iris.feature_names,\n",
        "                                   class_names=iris.target_names, filled=True, rounded=True, special_characters=True)\n",
        "graph_limited = graphviz.Source(dot_data_limited)\n",
        "graph_limited.render(\"decision_tree_limited\")\n",
        "\n",
        "# Visualize the default Decision Tree\n",
        "dot_data_default = export_graphviz(clf_default, out_file=None, feature_names=iris.feature_names,\n",
        "                                   class_names=iris.target_names, filled=True, rounded=True, special_characters=True)\n",
        "graph_default = graphviz.Source(dot_data_default)\n",
        "graph_default.render(\"decision_tree_default\")\n",
        "\n",
        "# Print feature importances for both models\n",
        "print(\"Feature Importances (min_samples_split=5):\")\n",
        "for feature, importance in zip(iris.feature_names, clf_limited.feature_importances_):\n",
        "    print(f\"{feature}: {importance:.4f}\")\n",
        "\n",
        "print(\"Feature Importances (default tree):\")\n",
        "for feature, importance in zip(iris.feature_names, clf_default.feature_importances_):\n",
        "    print(f\"{feature}: {importance:.4f}\")"
      ],
      "metadata": {
        "colab": {
          "base_uri": "https://localhost:8080/"
        },
        "id": "d-SmuuKgMXvp",
        "outputId": "2e18f110-4bd4-4852-a3a6-8bdf1fd1d295"
      },
      "execution_count": 8,
      "outputs": [
        {
          "output_type": "stream",
          "name": "stdout",
          "text": [
            "Accuracy with min_samples_split=5: 1.00\n",
            "Accuracy with default tree: 1.00\n",
            "Feature Importances (min_samples_split=5):\n",
            "sepal length (cm): 0.0000\n",
            "sepal width (cm): 0.0000\n",
            "petal length (cm): 0.4027\n",
            "petal width (cm): 0.5973\n",
            "Feature Importances (default tree):\n",
            "sepal length (cm): 0.0000\n",
            "sepal width (cm): 0.0167\n",
            "petal length (cm): 0.4059\n",
            "petal width (cm): 0.5774\n"
          ]
        }
      ]
    },
    {
      "cell_type": "markdown",
      "source": [
        "###23. Write a Python program to apply feature scaling before training a Decision Tree Classifier and compare its accuracy with unscaled data."
      ],
      "metadata": {
        "id": "4iauXT3dMu8b"
      }
    },
    {
      "cell_type": "code",
      "source": [
        "from sklearn import datasets\n",
        "from sklearn.model_selection import train_test_split\n",
        "from sklearn.tree import DecisionTreeClassifier, export_graphviz\n",
        "from sklearn.metrics import accuracy_score\n",
        "from sklearn.preprocessing import StandardScaler\n",
        "import graphviz\n",
        "import numpy as np\n",
        "\n",
        "# Load the Iris dataset\n",
        "iris = datasets.load_iris()\n",
        "X, y = iris.data, iris.target\n",
        "\n",
        "# Split the dataset into training and testing sets\n",
        "X_train, X_test, y_train, y_test = train_test_split(X, y, test_size=0.2, random_state=42)\n",
        "\n",
        "# Apply feature scaling\n",
        "scaler = StandardScaler()\n",
        "X_train_scaled = scaler.fit_transform(X_train)\n",
        "X_test_scaled = scaler.transform(X_test)\n",
        "\n",
        "# Create and train a Decision Tree Classifier with scaled data\n",
        "clf_scaled = DecisionTreeClassifier()\n",
        "clf_scaled.fit(X_train_scaled, y_train)\n",
        "\n",
        "# Create and train a Decision Tree Classifier with unscaled data\n",
        "clf_unscaled = DecisionTreeClassifier()\n",
        "clf_unscaled.fit(X_train, y_train)\n",
        "\n",
        "# Make predictions\n",
        "y_pred_scaled = clf_scaled.predict(X_test_scaled)\n",
        "y_pred_unscaled = clf_unscaled.predict(X_test)\n",
        "\n",
        "# Calculate and print accuracy\n",
        "accuracy_scaled = accuracy_score(y_test, y_pred_scaled)\n",
        "accuracy_unscaled = accuracy_score(y_test, y_pred_unscaled)\n",
        "print(f\"Accuracy with scaled data: {accuracy_scaled:.2f}\")\n",
        "print(f\"Accuracy with unscaled data: {accuracy_unscaled:.2f}\")\n",
        "\n",
        "# Visualize the Decision Tree with scaled data\n",
        "dot_data_scaled = export_graphviz(clf_scaled, out_file=None, feature_names=iris.feature_names,\n",
        "                                  class_names=iris.target_names, filled=True, rounded=True, special_characters=True)\n",
        "graph_scaled = graphviz.Source(dot_data_scaled)\n",
        "graph_scaled.render(\"decision_tree_scaled\")\n",
        "\n",
        "# Visualize the Decision Tree with unscaled data\n",
        "dot_data_unscaled = export_graphviz(clf_unscaled, out_file=None, feature_names=iris.feature_names,\n",
        "                                    class_names=iris.target_names, filled=True, rounded=True, special_characters=True)\n",
        "graph_unscaled = graphviz.Source(dot_data_unscaled)\n",
        "graph_unscaled.render(\"decision_tree_unscaled\")\n",
        "\n",
        "# Print feature importances for both models\n",
        "print(\"Feature Importances (scaled data):\")\n",
        "for feature, importance in zip(iris.feature_names, clf_scaled.feature_importances_):\n",
        "    print(f\"{feature}: {importance:.4f}\")\n",
        "\n",
        "print(\"Feature Importances (unscaled data):\")\n",
        "for feature, importance in zip(iris.feature_names, clf_unscaled.feature_importances_):\n",
        "    print(f\"{feature}: {importance:.4f}\")\n"
      ],
      "metadata": {
        "colab": {
          "base_uri": "https://localhost:8080/"
        },
        "id": "xnt30X7JNHD-",
        "outputId": "7f60f29b-3ecb-4c81-ef05-f8bfbddc3237"
      },
      "execution_count": 9,
      "outputs": [
        {
          "output_type": "stream",
          "name": "stdout",
          "text": [
            "Accuracy with scaled data: 1.00\n",
            "Accuracy with unscaled data: 1.00\n",
            "Feature Importances (scaled data):\n",
            "sepal length (cm): 0.0167\n",
            "sepal width (cm): 0.0167\n",
            "petal length (cm): 0.3893\n",
            "petal width (cm): 0.5774\n",
            "Feature Importances (unscaled data):\n",
            "sepal length (cm): 0.0167\n",
            "sepal width (cm): 0.0167\n",
            "petal length (cm): 0.8895\n",
            "petal width (cm): 0.0772\n"
          ]
        }
      ]
    },
    {
      "cell_type": "markdown",
      "source": [
        "###24. Write a Python program to train a Decision Tree Classifier using One-vs-Rest (OvR) strategy for multiclass classification."
      ],
      "metadata": {
        "id": "LcuzJGhoNuvD"
      }
    },
    {
      "cell_type": "code",
      "source": [
        "from sklearn import datasets\n",
        "from sklearn.model_selection import train_test_split\n",
        "from sklearn.tree import DecisionTreeClassifier, export_graphviz\n",
        "from sklearn.metrics import accuracy_score\n",
        "from sklearn.preprocessing import StandardScaler\n",
        "from sklearn.multiclass import OneVsRestClassifier\n",
        "import graphviz\n",
        "import numpy as np\n",
        "\n",
        "# Load the Iris dataset\n",
        "iris = datasets.load_iris()\n",
        "X, y = iris.data, iris.target\n",
        "\n",
        "# Split the dataset into training and testing sets\n",
        "X_train, X_test, y_train, y_test = train_test_split(X, y, test_size=0.2, random_state=42)\n",
        "\n",
        "# Apply feature scaling\n",
        "scaler = StandardScaler()\n",
        "X_train_scaled = scaler.fit_transform(X_train)\n",
        "X_test_scaled = scaler.transform(X_test)\n",
        "\n",
        "# Create and train a One-vs-Rest (OvR) Decision Tree Classifier with scaled data\n",
        "clf_ovr = OneVsRestClassifier(DecisionTreeClassifier())\n",
        "clf_ovr.fit(X_train_scaled, y_train)\n",
        "\n",
        "# Make predictions\n",
        "y_pred_ovr = clf_ovr.predict(X_test_scaled)\n",
        "\n",
        "# Calculate and print accuracy\n",
        "accuracy_ovr = accuracy_score(y_test, y_pred_ovr)\n",
        "print(f\"Accuracy with One-vs-Rest strategy: {accuracy_ovr:.2f}\")\n",
        "\n",
        "# Print feature importances for each tree in OvR\n",
        "print(\"Feature Importances (One-vs-Rest strategy):\")\n",
        "for i, estimator in enumerate(clf_ovr.estimators_):\n",
        "    print(f\"Class {i}:\")\n",
        "    for feature, importance in zip(iris.feature_names, estimator.feature_importances_):\n",
        "        print(f\"  {feature}: {importance:.4f}\")\n"
      ],
      "metadata": {
        "colab": {
          "base_uri": "https://localhost:8080/"
        },
        "id": "kr35hkxiN3fx",
        "outputId": "f955b6a1-bf83-4d48-9e4e-17fc8b4c35d3"
      },
      "execution_count": 10,
      "outputs": [
        {
          "output_type": "stream",
          "name": "stdout",
          "text": [
            "Accuracy with One-vs-Rest strategy: 1.00\n",
            "Feature Importances (One-vs-Rest strategy):\n",
            "Class 0:\n",
            "  sepal length (cm): 0.0000\n",
            "  sepal width (cm): 0.0000\n",
            "  petal length (cm): 0.0000\n",
            "  petal width (cm): 1.0000\n",
            "Class 1:\n",
            "  sepal length (cm): 0.0000\n",
            "  sepal width (cm): 0.0247\n",
            "  petal length (cm): 0.6014\n",
            "  petal width (cm): 0.3739\n",
            "Class 2:\n",
            "  sepal length (cm): 0.0000\n",
            "  sepal width (cm): 0.0253\n",
            "  petal length (cm): 0.8569\n",
            "  petal width (cm): 0.1178\n"
          ]
        }
      ]
    },
    {
      "cell_type": "markdown",
      "source": [
        "###25. Write a Python program to train a Decision Tree Classifier and display the feature importance scores.\n"
      ],
      "metadata": {
        "id": "eV-hbDKPODOD"
      }
    },
    {
      "cell_type": "code",
      "source": [
        "from sklearn import datasets\n",
        "from sklearn.model_selection import train_test_split\n",
        "from sklearn.tree import DecisionTreeClassifier\n",
        "from sklearn.metrics import accuracy_score\n",
        "import numpy as np\n",
        "\n",
        "# Load the Iris dataset\n",
        "iris = datasets.load_iris()\n",
        "X, y = iris.data, iris.target\n",
        "\n",
        "# Split the dataset into training and testing sets\n",
        "X_train, X_test, y_train, y_test = train_test_split(X, y, test_size=0.2, random_state=42)\n",
        "\n",
        "# Create and train a Decision Tree Classifier\n",
        "clf = DecisionTreeClassifier()\n",
        "clf.fit(X_train, y_train)\n",
        "\n",
        "# Make predictions\n",
        "y_pred = clf.predict(X_test)\n",
        "\n",
        "# Calculate and print accuracy\n",
        "accuracy = accuracy_score(y_test, y_pred)\n",
        "print(f\"Model Accuracy: {accuracy:.2f}\")\n",
        "\n",
        "# Print feature importance scores\n",
        "print(\"Feature Importance Scores:\")\n",
        "for feature, importance in zip(iris.feature_names, clf.feature_importances_):\n",
        "    print(f\"{feature}: {importance:.4f}\")\n"
      ],
      "metadata": {
        "colab": {
          "base_uri": "https://localhost:8080/"
        },
        "id": "9HfMjxrROLRo",
        "outputId": "c4e28970-0142-42d5-d62a-7208b8fa6e56"
      },
      "execution_count": 11,
      "outputs": [
        {
          "output_type": "stream",
          "name": "stdout",
          "text": [
            "Model Accuracy: 1.00\n",
            "Feature Importance Scores:\n",
            "sepal length (cm): 0.0000\n",
            "sepal width (cm): 0.0167\n",
            "petal length (cm): 0.4059\n",
            "petal width (cm): 0.5774\n"
          ]
        }
      ]
    },
    {
      "cell_type": "markdown",
      "source": [
        "###26. Write a Python program to train a Decision Tree Regressor with max_depth=5 and compare its performance with an unrestricted tree."
      ],
      "metadata": {
        "id": "Nz8geY3QOXGk"
      }
    },
    {
      "cell_type": "code",
      "source": [
        "from sklearn import datasets\n",
        "from sklearn.model_selection import train_test_split\n",
        "from sklearn.tree import DecisionTreeRegressor\n",
        "from sklearn.metrics import mean_squared_error\n",
        "import numpy as np\n",
        "\n",
        "# Load the California housing dataset\n",
        "housing = datasets.fetch_california_housing()\n",
        "X, y = housing.data, housing.target\n",
        "\n",
        "# Split the dataset into training and testing sets\n",
        "X_train, X_test, y_train, y_test = train_test_split(X, y, test_size=0.2, random_state=42)\n",
        "\n",
        "# Create and train a Decision Tree Regressor with max_depth=5\n",
        "regressor_limited = DecisionTreeRegressor(max_depth=5)\n",
        "regressor_limited.fit(X_train, y_train)\n",
        "\n",
        "# Create and train an unrestricted Decision Tree Regressor\n",
        "regressor_full = DecisionTreeRegressor()\n",
        "regressor_full.fit(X_train, y_train)\n",
        "\n",
        "# Make predictions\n",
        "y_pred_limited = regressor_limited.predict(X_test)\n",
        "y_pred_full = regressor_full.predict(X_test)\n",
        "\n",
        "# Calculate and print Mean Squared Error (MSE)\n",
        "mse_limited = mean_squared_error(y_test, y_pred_limited)\n",
        "mse_full = mean_squared_error(y_test, y_pred_full)\n",
        "print(f\"MSE with max depth 5: {mse_limited:.4f}\")\n",
        "print(f\"MSE with fully grown tree: {mse_full:.4f}\")\n",
        "\n",
        "# Print feature importance scores\n",
        "print(\"Feature Importance Scores (max depth 5):\")\n",
        "for feature, importance in zip(housing.feature_names, regressor_limited.feature_importances_):\n",
        "    print(f\"{feature}: {importance:.4f}\")\n",
        "\n",
        "print(\"Feature Importance Scores (fully grown tree):\")\n",
        "for feature, importance in zip(housing.feature_names, regressor_full.feature_importances_):\n",
        "    print(f\"{feature}: {importance:.4f}\")\n"
      ],
      "metadata": {
        "colab": {
          "base_uri": "https://localhost:8080/"
        },
        "id": "MnUGiKOFOdBu",
        "outputId": "21be94a9-f3ce-4e3d-daaf-b13026a16268"
      },
      "execution_count": 12,
      "outputs": [
        {
          "output_type": "stream",
          "name": "stdout",
          "text": [
            "MSE with max depth 5: 0.5245\n",
            "MSE with fully grown tree: 0.4959\n",
            "Feature Importance Scores (max depth 5):\n",
            "MedInc: 0.7712\n",
            "HouseAge: 0.0416\n",
            "AveRooms: 0.0313\n",
            "AveBedrms: 0.0009\n",
            "Population: 0.0025\n",
            "AveOccup: 0.1284\n",
            "Latitude: 0.0220\n",
            "Longitude: 0.0021\n",
            "Feature Importance Scores (fully grown tree):\n",
            "MedInc: 0.5274\n",
            "HouseAge: 0.0519\n",
            "AveRooms: 0.0536\n",
            "AveBedrms: 0.0280\n",
            "Population: 0.0308\n",
            "AveOccup: 0.1319\n",
            "Latitude: 0.0940\n",
            "Longitude: 0.0825\n"
          ]
        }
      ]
    },
    {
      "cell_type": "markdown",
      "source": [
        "###27. Write a Python program to train a Decision Tree Classifier, apply Cost Complexity Pruning (CCP), and visualize its effect on accuracy."
      ],
      "metadata": {
        "id": "WaqBHXDjOluU"
      }
    },
    {
      "cell_type": "code",
      "source": [
        "import matplotlib.pyplot as plt\n",
        "from sklearn import datasets\n",
        "from sklearn.model_selection import train_test_split\n",
        "from sklearn.tree import DecisionTreeClassifier\n",
        "from sklearn.metrics import accuracy_score\n",
        "import numpy as np\n",
        "\n",
        "# Load the Iris dataset\n",
        "iris = datasets.load_iris()\n",
        "X, y = iris.data, iris.target\n",
        "\n",
        "# Split the dataset into training and testing sets\n",
        "X_train, X_test, y_train, y_test = train_test_split(X, y, test_size=0.2, random_state=42)\n",
        "\n",
        "# Train a Decision Tree Classifier without pruning\n",
        "clf_full = DecisionTreeClassifier(random_state=42)\n",
        "clf_full.fit(X_train, y_train)\n",
        "\n",
        "# Get cost complexity pruning path\n",
        "path = clf_full.cost_complexity_pruning_path(X_train, y_train)\n",
        "ccp_alphas = path.ccp_alphas\n",
        "\n",
        "# Train and evaluate Decision Trees with different values of alpha\n",
        "train_accuracies = []\n",
        "test_accuracies = []\n",
        "\n",
        "for alpha in ccp_alphas:\n",
        "    clf_pruned = DecisionTreeClassifier(random_state=42, ccp_alpha=alpha)\n",
        "    clf_pruned.fit(X_train, y_train)\n",
        "    train_accuracies.append(accuracy_score(y_train, clf_pruned.predict(X_train)))\n",
        "    test_accuracies.append(accuracy_score(y_test, clf_pruned.predict(X_test)))\n",
        "\n",
        "# Plot the effect of CCP alpha on accuracy\n",
        "plt.figure(figsize=(8, 6))\n",
        "plt.plot(ccp_alphas, train_accuracies, marker='o', label='Train Accuracy')\n",
        "plt.plot(ccp_alphas, test_accuracies, marker='s', label='Test Accuracy')\n",
        "plt.xlabel('CCP Alpha')\n",
        "plt.ylabel('Accuracy')\n",
        "plt.title('Effect of Cost Complexity Pruning on Accuracy')\n",
        "plt.legend()\n",
        "plt.grid(True)\n",
        "plt.show()\n",
        "\n",
        "# Print accuracy of fully grown and best pruned tree\n",
        "best_alpha = ccp_alphas[np.argmax(test_accuracies)]\n",
        "best_pruned_clf = DecisionTreeClassifier(random_state=42, ccp_alpha=best_alpha)\n",
        "best_pruned_clf.fit(X_train, y_train)\n",
        "accuracy_full = accuracy_score(y_test, clf_full.predict(X_test))\n",
        "accuracy_best_pruned = accuracy_score(y_test, best_pruned_clf.predict(X_test))\n",
        "print(f\"Accuracy of fully grown tree: {accuracy_full:.4f}\")\n",
        "print(f\"Best pruned tree (alpha={best_alpha:.4f}) accuracy: {accuracy_best_pruned:.4f}\")"
      ],
      "metadata": {
        "colab": {
          "base_uri": "https://localhost:8080/",
          "height": 600
        },
        "id": "ltQI6v3POvVs",
        "outputId": "0c030def-c667-434e-c3ab-5474347af741"
      },
      "execution_count": 13,
      "outputs": [
        {
          "output_type": "display_data",
          "data": {
            "text/plain": [
              "<Figure size 800x600 with 1 Axes>"
            ],
            "image/png": "[encoded data removed]"
          },
          "metadata": {}
        },
        {
          "output_type": "stream",
          "name": "stdout",
          "text": [
            "Accuracy of fully grown tree: 1.0000\n",
            "Best pruned tree (alpha=0.0000) accuracy: 1.0000\n"
          ]
        }
      ]
    },
    {
      "cell_type": "markdown",
      "source": [
        "###28. Write a Python program to train a Decision Tree Classifier and evaluate its performance using Precision, Recall, and F1-Score."
      ],
      "metadata": {
        "id": "Te70eNlzO7Pl"
      }
    },
    {
      "cell_type": "code",
      "source": [
        "import matplotlib.pyplot as plt\n",
        "from sklearn import datasets\n",
        "from sklearn.model_selection import train_test_split\n",
        "from sklearn.tree import DecisionTreeClassifier\n",
        "from sklearn.metrics import accuracy_score, precision_score, recall_score, f1_score\n",
        "import numpy as np\n",
        "\n",
        "# Load the Iris dataset\n",
        "iris = datasets.load_iris()\n",
        "X= iris.data\n",
        "y = iris.target\n",
        "\n",
        "# Split the dataset into training and testing sets\n",
        "X_train, X_test, y_train, y_test = train_test_split(X, y, test_size=0.2, random_state=42)\n",
        "\n",
        "# Train a Decision Tree Classifier without pruning\n",
        "clf_full = DecisionTreeClassifier(random_state=42)\n",
        "clf_full.fit(X_train, y_train)\n",
        "\n",
        "# Get cost complexity pruning path\n",
        "path = clf_full.cost_complexity_pruning_path(X_train, y_train)\n",
        "ccp_alphas = path.ccp_alphas\n",
        "\n",
        "# Train and evaluate Decision Trees with different values of alpha\n",
        "train_accuracies = []\n",
        "test_accuracies = []\n",
        "\n",
        "for alpha in ccp_alphas:\n",
        "    clf_pruned = DecisionTreeClassifier(random_state=42, ccp_alpha=alpha)\n",
        "    clf_pruned.fit(X_train, y_train)\n",
        "    train_accuracies.append(accuracy_score(y_train, clf_pruned.predict(X_train)))\n",
        "    test_accuracies.append(accuracy_score(y_test, clf_pruned.predict(X_test)))\n",
        "\n",
        "# Plot the effect of CCP alpha on accuracy\n",
        "plt.figure(figsize=(8, 6))\n",
        "plt.plot(ccp_alphas, train_accuracies, marker='o', label='Train Accuracy')\n",
        "plt.plot(ccp_alphas, test_accuracies, marker='s', label='Test Accuracy')\n",
        "plt.xlabel('CCP Alpha')\n",
        "plt.ylabel('Accuracy')\n",
        "plt.title('Effect of Cost Complexity Pruning on Accuracy')\n",
        "plt.legend()\n",
        "plt.grid(True)\n",
        "plt.show()\n",
        "\n",
        "# Print accuracy of fully grown and best pruned tree\n",
        "best_alpha = ccp_alphas[np.argmax(test_accuracies)]\n",
        "best_pruned_clf = DecisionTreeClassifier(random_state=42, ccp_alpha=best_alpha)\n",
        "best_pruned_clf.fit(X_train, y_train)\n",
        "accuracy_full = accuracy_score(y_test, clf_full.predict(X_test))\n",
        "accuracy_best_pruned = accuracy_score(y_test, best_pruned_clf.predict(X_test))\n",
        "print(f\"Accuracy of fully grown tree: {accuracy_full:.4f}\")\n",
        "print(f\"Best pruned tree (alpha={best_alpha:.4f}) accuracy: {accuracy_best_pruned:.4f}\")\n",
        "\n",
        "# Evaluate performance using Precision, Recall, and F1-Score\n",
        "y_pred_full = clf_full.predict(X_test)\n",
        "y_pred_best_pruned = best_pruned_clf.predict(X_test)\n",
        "\n",
        "print(\"Performance Metrics for Fully Grown Tree:\")\n",
        "print(f\"Precision: {precision_score(y_test, y_pred_full, average='weighted'):.4f}\")\n",
        "print(f\"Recall: {recall_score(y_test, y_pred_full, average='weighted'):.4f}\")\n",
        "print(f\"F1-Score: {f1_score(y_test, y_pred_full, average='weighted'):.4f}\")\n",
        "\n",
        "print(\"Performance Metrics for Best Pruned Tree:\")\n",
        "print(f\"Precision: {precision_score(y_test, y_pred_best_pruned, average='weighted'):.4f}\")\n",
        "print(f\"Recall: {recall_score(y_test, y_pred_best_pruned, average='weighted'):.4f}\")\n",
        "print(f\"F1-Score: {f1_score(y_test, y_pred_best_pruned, average='weighted'):.4f}\")\n"
      ],
      "metadata": {
        "colab": {
          "base_uri": "https://localhost:8080/",
          "height": 746
        },
        "id": "eX6gxeKxPJAf",
        "outputId": "15a31c59-78db-4112-d3f0-b672fcfeb584"
      },
      "execution_count": 15,
      "outputs": [
        {
          "output_type": "display_data",
          "data": {
            "text/plain": [
              "<Figure size 800x600 with 1 Axes>"
            ],
            "image/png": "[encoded data removed]"
          },
          "metadata": {}
        },
        {
          "output_type": "stream",
          "name": "stdout",
          "text": [
            "Accuracy of fully grown tree: 1.0000\n",
            "Best pruned tree (alpha=0.0000) accuracy: 1.0000\n",
            "Performance Metrics for Fully Grown Tree:\n",
            "Precision: 1.0000\n",
            "Recall: 1.0000\n",
            "F1-Score: 1.0000\n",
            "Performance Metrics for Best Pruned Tree:\n",
            "Precision: 1.0000\n",
            "Recall: 1.0000\n",
            "F1-Score: 1.0000\n"
          ]
        }
      ]
    },
    {
      "cell_type": "markdown",
      "source": [
        "###29. Write a Python program to train a Decision Tree Classifier and visualize the confusion matrix using seaborn."
      ],
      "metadata": {
        "id": "80bjj04TPqtk"
      }
    },
    {
      "cell_type": "code",
      "source": [
        "import matplotlib.pyplot as plt\n",
        "import seaborn as sns\n",
        "from sklearn import datasets\n",
        "from sklearn.model_selection import train_test_split\n",
        "from sklearn.tree import DecisionTreeClassifier\n",
        "from sklearn.metrics import accuracy_score, precision_score, recall_score, f1_score, confusion_matrix\n",
        "import numpy as np\n",
        "\n",
        "# Load the Iris dataset\n",
        "iris = datasets.load_iris()\n",
        "X = iris.data\n",
        "y = iris.target\n",
        "\n",
        "# Split the dataset into training and testing sets\n",
        "X_train, X_test, y_train, y_test = train_test_split(X, y, test_size=0.2, random_state=42)\n",
        "\n",
        "# Train a Decision Tree Classifier without pruning\n",
        "clf_full = DecisionTreeClassifier(random_state=42)\n",
        "clf_full.fit(X_train, y_train)\n",
        "\n",
        "# Get cost complexity pruning path\n",
        "path = clf_full.cost_complexity_pruning_path(X_train, y_train)\n",
        "ccp_alphas = path.ccp_alphas\n",
        "\n",
        "# Train and evaluate Decision Trees with different values of alpha\n",
        "train_accuracies = []\n",
        "test_accuracies = []\n",
        "\n",
        "for alpha in ccp_alphas:\n",
        "    clf_pruned = DecisionTreeClassifier(random_state=42, ccp_alpha=alpha)\n",
        "    clf_pruned.fit(X_train, y_train)\n",
        "    train_accuracies.append(accuracy_score(y_train, clf_pruned.predict(X_train)))\n",
        "    test_accuracies.append(accuracy_score(y_test, clf_pruned.predict(X_test)))\n",
        "\n",
        "# Plot the effect of CCP alpha on accuracy\n",
        "plt.figure(figsize=(8, 6))\n",
        "plt.plot(ccp_alphas, train_accuracies, marker='o', label='Train Accuracy')\n",
        "plt.plot(ccp_alphas, test_accuracies, marker='s', label='Test Accuracy')\n",
        "plt.xlabel('CCP Alpha')\n",
        "plt.ylabel('Accuracy')\n",
        "plt.title('Effect of Cost Complexity Pruning on Accuracy')\n",
        "plt.legend()\n",
        "plt.grid(True)\n",
        "plt.show()\n",
        "\n",
        "# Print accuracy of fully grown and best pruned tree\n",
        "best_alpha = ccp_alphas[np.argmax(test_accuracies)]\n",
        "best_pruned_clf = DecisionTreeClassifier(random_state=42, ccp_alpha=best_alpha)\n",
        "best_pruned_clf.fit(X_train, y_train)\n",
        "accuracy_full = accuracy_score(y_test, clf_full.predict(X_test))\n",
        "accuracy_best_pruned = accuracy_score(y_test, best_pruned_clf.predict(X_test))\n",
        "print(f\"Accuracy of fully grown tree: {accuracy_full:.4f}\")\n",
        "print(f\"Best pruned tree (alpha={best_alpha:.4f}) accuracy: {accuracy_best_pruned:.4f}\")\n",
        "\n",
        "# Evaluate performance using Precision, Recall, and F1-Score\n",
        "y_pred_full = clf_full.predict(X_test)\n",
        "y_pred_best_pruned = best_pruned_clf.predict(X_test)\n",
        "\n",
        "print(\"Performance Metrics for Fully Grown Tree:\")\n",
        "print(f\"Precision: {precision_score(y_test, y_pred_full, average='weighted'):.4f}\")\n",
        "print(f\"Recall: {recall_score(y_test, y_pred_full, average='weighted'):.4f}\")\n",
        "print(f\"F1-Score: {f1_score(y_test, y_pred_full, average='weighted'):.4f}\")\n",
        "\n",
        "print(\"Performance Metrics for Best Pruned Tree:\")\n",
        "print(f\"Precision: {precision_score(y_test, y_pred_best_pruned, average='weighted'):.4f}\")\n",
        "print(f\"Recall: {recall_score(y_test, y_pred_best_pruned, average='weighted'):.4f}\")\n",
        "print(f\"F1-Score: {f1_score(y_test, y_pred_best_pruned, average='weighted'):.4f}\")\n",
        "\n",
        "# Visualize the confusion matrix\n",
        "conf_matrix = confusion_matrix(y_test, y_pred_full)\n",
        "plt.figure(figsize=(6, 5))\n",
        "sns.heatmap(conf_matrix, annot=True, fmt='d', cmap='Blues', xticklabels=iris.target_names, yticklabels=iris.target_names)\n",
        "plt.xlabel('Predicted Labels')\n",
        "plt.ylabel('True Labels')\n",
        "plt.title('Confusion Matrix - Fully Grown Tree')\n",
        "plt.show()\n"
      ],
      "metadata": {
        "colab": {
          "base_uri": "https://localhost:8080/",
          "height": 1000
        },
        "id": "opdQBqiHPynz",
        "outputId": "100c098b-e352-4207-d2ca-7eacdc76f49a"
      },
      "execution_count": 17,
      "outputs": [
        {
          "output_type": "display_data",
          "data": {
            "text/plain": [
              "<Figure size 800x600 with 1 Axes>"
            ],
            "image/png": "[encoded data removed]"
          },
          "metadata": {}
        },
        {
          "output_type": "stream",
          "name": "stdout",
          "text": [
            "Accuracy of fully grown tree: 1.0000\n",
            "Best pruned tree (alpha=0.0000) accuracy: 1.0000\n",
            "Performance Metrics for Fully Grown Tree:\n",
            "Precision: 1.0000\n",
            "Recall: 1.0000\n",
            "F1-Score: 1.0000\n",
            "Performance Metrics for Best Pruned Tree:\n",
            "Precision: 1.0000\n",
            "Recall: 1.0000\n",
            "F1-Score: 1.0000\n"
          ]
        },
        {
          "output_type": "display_data",
          "data": {
            "text/plain": [
              "<Figure size 600x500 with 2 Axes>"
            ],
            "image/png": "[encoded data removed]"
          },
          "metadata": {}
        }
      ]
    },
    {
      "cell_type": "markdown",
      "source": [
        "###30. Write a Python program to train a Decision Tree Classifier and use GridSearchCV to find the optimal values for max_depth and min_samples_split."
      ],
      "metadata": {
        "id": "YYF0tXB3QbPI"
      }
    },
    {
      "cell_type": "code",
      "source": [
        "import matplotlib.pyplot as plt\n",
        "import seaborn as sns\n",
        "from sklearn import datasets\n",
        "from sklearn.model_selection import train_test_split, GridSearchCV\n",
        "from sklearn.tree import DecisionTreeClassifier\n",
        "from sklearn.metrics import accuracy_score, precision_score, recall_score, f1_score, confusion_matrix\n",
        "import numpy as np\n",
        "\n",
        "# Load the Iris dataset\n",
        "iris = datasets.load_iris()\n",
        "X = iris.data\n",
        "y = iris.target\n",
        "\n",
        "# Split the dataset into training and testing sets\n",
        "X_train, X_test, y_train, y_test = train_test_split(X, y, test_size=0.2, random_state=42)\n",
        "\n",
        "# Perform Grid Search for optimal hyperparameters\n",
        "param_grid = {\n",
        "    'max_depth': [3, 5, 10, None],\n",
        "    'min_samples_split': [2, 5, 10]\n",
        "}\n",
        "\n",
        "grid_search = GridSearchCV(DecisionTreeClassifier(random_state=42), param_grid, cv=5, scoring='accuracy')\n",
        "grid_search.fit(X_train, y_train)\n",
        "\n",
        "# Train the best model found by Grid Search\n",
        "best_clf = grid_search.best_estimator_\n",
        "best_clf.fit(X_train, y_train)\n",
        "\n",
        "# Predict on test data\n",
        "y_pred_best = best_clf.predict(X_test)\n",
        "\n",
        "# Evaluate model performance\n",
        "accuracy_best = accuracy_score(y_test, y_pred_best)\n",
        "precision_best = precision_score(y_test, y_pred_best, average='weighted')\n",
        "recall_best = recall_score(y_test, y_pred_best, average='weighted')\n",
        "f1_best = f1_score(y_test, y_pred_best, average='weighted')\n",
        "\n",
        "# Print best hyperparameters and metrics\n",
        "print(f\"Best Parameters: {grid_search.best_params_}\")\n",
        "print(f\"Best Model Accuracy: {accuracy_best:.4f}\")\n",
        "print(f\"Precision: {precision_best:.4f}\")\n",
        "print(f\"Recall: {recall_best:.4f}\")\n",
        "print(f\"F1-Score: {f1_best:.4f}\")\n",
        "\n",
        "# Visualize the confusion matrix\n",
        "conf_matrix = confusion_matrix(y_test, y_pred_best)\n",
        "plt.figure(figsize=(6, 5))\n",
        "sns.heatmap(conf_matrix, annot=True, fmt='d', cmap='Blues', xticklabels=iris.target_names, yticklabels=iris.target_names)\n",
        "plt.xlabel('Predicted Labels')\n",
        "plt.ylabel('True Labels')\n",
        "plt.title('Confusion Matrix - Best Model')\n",
        "plt.show()\n"
      ],
      "metadata": {
        "colab": {
          "base_uri": "https://localhost:8080/",
          "height": 578
        },
        "id": "xk6xCb0hQlPj",
        "outputId": "555275ce-9c25-4852-ddff-b2019e306877"
      },
      "execution_count": 19,
      "outputs": [
        {
          "output_type": "stream",
          "name": "stdout",
          "text": [
            "Best Parameters: {'max_depth': 10, 'min_samples_split': 2}\n",
            "Best Model Accuracy: 1.0000\n",
            "Precision: 1.0000\n",
            "Recall: 1.0000\n",
            "F1-Score: 1.0000\n"
          ]
        },
        {
          "output_type": "display_data",
          "data": {
            "text/plain": [
              "<Figure size 600x500 with 2 Axes>"
            ],
            "image/png": "[encoded data removed]"
          },
          "metadata": {}
        }
      ]
    }
  ]
}