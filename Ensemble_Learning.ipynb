{
  "nbformat": 4,
  "nbformat_minor": 0,
  "metadata": {
    "colab": {
      "provenance": []
    },
    "kernelspec": {
      "name": "python3",
      "display_name": "Python 3"
    },
    "language_info": {
      "name": "python"
    }
  },
  "cells": [
    {
      "cell_type": "markdown",
      "source": [
        "#Theoretical\n",
        "\n",
        "###1. Can we use Bagging for regression problems?\n",
        "\n",
        "ANS:- Yes, Bagging can be used for both regression and classification problems.\n",
        "\n",
        "Bagging (Bootstrap Aggregating) is an ensemble method that aims to improve the accuracy and stability of machine learning models. It works by creating multiple subsets of the training data using bootstrapping (random sampling with replacement), training a separate model on each subset, and then combining the predictions of these models to make a final prediction."
      ],
      "metadata": {
        "id": "LFqRmRzIntPj"
      }
    },
    {
      "cell_type": "markdown",
      "source": [
        "###2.  What is the difference between multiple model training and single model training?\n",
        "\n",
        "ANS:- **Single Model Training:-**\n",
        "\n",
        "In single model training, we train one model on your entire dataset. This model is then used to make predictions on new data. This approach is straightforward and often works well for simple problems.\n",
        "\n",
        "**Multiple Model Training:-**\n",
        "\n",
        "In multiple model training, we train multiple models, either on different subsets of the data or using different algorithms. These models are then combined to make predictions. This approach is often used to improve the accuracy and robustness of the model, especially for complex problems. There are several ways to train multiple models:-\n",
        "\n",
        "**1.Ensemble Methods:-** Techniques like Bagging and Boosting train multiple models on different subsets of the data and combine their predictions. This helps to reduce overfitting and improve accuracy.\n",
        "\n",
        "**2.Different Algorithms:-** We can train different types of models (e.g., a decision tree, a support vector machine, and a neural network) on the same data and then combine their predictions. This approach can help to capture different aspects of the data and improve overall performance.\n",
        "\n",
        "**3.Specialized Models:-** For complex tasks, we might train multiple models, each specializing in a specific sub-task. For example, in image recognition, one model might be trained to detect faces, another to detect objects, and so on. The predictions from these models are then combined to provide a comprehensive understanding of the image."
      ],
      "metadata": {
        "id": "hry9lssJoOhW"
      }
    },
    {
      "cell_type": "markdown",
      "source": [
        "###3. Explain the concept of feature randomness in Random Forest.\n",
        "\n",
        "ANS:- Feature randomness, also known as feature bagging or the random subspace method, is a crucial aspect of the Random Forest algorithm. It introduces randomness during the construction of individual decision trees within the forest.\n",
        "\n",
        "**How it works:-**\n",
        "\n",
        "**1.Subset of Features:-** When building each decision tree in a Random Forest, a random subset of features is selected from the total set of features available in the dataset.\n",
        "\n",
        "**2.Splitting Nodes:-** At each node of the decision tree, the algorithm considers only this randomly selected subset of features to determine the best split.\n",
        "\n",
        "**3.Diversity of Trees:-** This process ensures that different trees within the forest are built using different sets of features, leading to a more diverse and robust ensemble.\n",
        "\n",
        "**Benefits of Feature Randomness:-**\n",
        "\n",
        "**1.Reduces Correlation:-** By using different feature subsets for each tree, feature randomness helps to reduce the correlation between individual trees in the forest. This is important because highly correlated trees tend to make similar errors, reducing the overall accuracy of the ensemble.\n",
        "\n",
        "**2.Improves Generalization:-** Feature randomness forces the trees to consider a wider range of possible splits, leading to a model that generalizes better to unseen data. This helps to prevent overfitting, where the model performs well on the training data but poorly on new data.\n",
        "\n",
        "**3.Handles High-Dimensional Data:-** Feature randomness is particularly useful when dealing with high-dimensional data, where the number of features is very large. By considering only a subset of features at each node, the algorithm can efficiently explore the feature space and identify the most important features for prediction."
      ],
      "metadata": {
        "id": "ycqc-htCpHCG"
      }
    },
    {
      "cell_type": "markdown",
      "source": [
        "###4. What is OOB (Out-of-Bag) Score?\n",
        "\n",
        "ANS:- OOB (Out-of-Bag) Score is a method of measuring the prediction error of Random Forests and other machine learning models that utilize bootstrapping. It provides an estimate of how well the model will perform on unseen data without the need for a separate validation set.\n",
        "\n",
        "**How it works:-**\n",
        "\n",
        "**1.Bootstrapping:-** When training a Random Forest, each decision tree is built using a bootstrapped sample of the training data. This means that some data points are excluded from the training set for each tree. These excluded data points are called \"out-of-bag\" (OOB) samples.\n",
        "\n",
        "**2.OOB Predictions:-** For each data point in the original training set, predictions are made by the trees that did not use that data point during their training (i.e., the trees for which the data point was \"out-of-bag\").\n",
        "\n",
        "**3.OOB Score Calculation:-** The OOB score is then calculated by aggregating the predictions for each data point across all the trees for which it was OOB. For classification, the OOB score is typically the accuracy of the OOB predictions. For regression, it might be the mean squared error or R-squared.\n",
        "\n",
        "**Benefits of using OOB Score:-**\n",
        "\n",
        "**1.No need for a separate validation set:-** The OOB score provides an estimate of model performance without requiring a separate validation set, which can be useful when you have limited data.\n",
        "\n",
        "**2.Efficient use of data:-** All data points are used for both training and validation, making efficient use of the available data.\n",
        "\n",
        "**3.Internal validation:-** The OOB score is an internal validation measure that is inherent to the Random Forest algorithm."
      ],
      "metadata": {
        "id": "uyHZMbcwqcen"
      }
    },
    {
      "cell_type": "markdown",
      "source": [
        "###5. How can you measure the importance of features in a Random Forest model?\n",
        "\n",
        "ANS:- Random Forest models offer a built-in mechanism to assess feature importance, which helps understand which features contribute most to the model's predictive power. Here's how it works:-\n",
        "\n",
        "**1. Gini Importance (or Mean Decrease Impurity):-**\n",
        "\n",
        "**Concept:-** This method is based on the Gini impurity, a measure of how often a randomly chosen element from the set would be incorrectly labeled if it were randomly labeled according to the distribution of labels in the subset.\n",
        "\n",
        "**Calculation:-** For each feature, the algorithm calculates the total reduction in Gini impurity achieved by splits using that feature across all trees in the forest. Features that lead to larger decreases in impurity are considered more important.\n",
        "\n",
        "**Interpretation:-** Higher Gini importance values indicate more important features.\n",
        "\n",
        "**2. Permutation Importance (or Mean Decrease Accuracy):-**\n",
        "\n",
        "**Concept:-** This method involves randomly shuffling the values of a single feature and measuring the decrease in model performance (e.g., accuracy).\n",
        "\n",
        "**Calculation:-** For each feature, the values are permuted, and the model's performance is evaluated on the OOB samples. The difference in performance before and after permutation represents the feature's importance.\n",
        "\n",
        "**Interpretation:-** Features that cause a larger drop in performance when permuted are considered more important."
      ],
      "metadata": {
        "id": "q-hj_dJ0syYz"
      }
    },
    {
      "cell_type": "markdown",
      "source": [
        "###6. Explain the working principle of a Bagging Classifier.\n",
        "\n",
        "ANS:- Bagging, short for Bootstrap Aggregating, is an ensemble learning technique designed to improve the stability and accuracy of machine learning algorithms, particularly in classification tasks. It works by combining the predictions of multiple classifiers trained on different subsets of the training data.\n",
        "\n",
        "**Working Principle**\n",
        "\n",
        "**1.Bootstrapping:-** The Bagging Classifier starts by creating multiple subsets of the training data using a technique called bootstrapping. Bootstrapping involves randomly sampling data points from the original training set with replacement. This means that some data points may appear multiple times in a single subset, while others may be excluded.\n",
        "\n",
        "**2.Parallel Training:-** A separate classifier (typically a decision tree) is trained on each of the bootstrapped subsets. These classifiers are trained independently and in parallel.\n",
        "\n",
        "**3.Aggregation:-** Once all the classifiers are trained, their predictions are combined to make a final prediction. For classification tasks, the Bagging Classifier typically uses majority voting to determine the final class label. This means that the class label predicted by the majority of the classifiers is selected as the final prediction."
      ],
      "metadata": {
        "id": "gfy8Niklt3c8"
      }
    },
    {
      "cell_type": "markdown",
      "source": [
        "###7. How do you evaluate a Bagging Classifier’s performance?\n",
        "\n",
        "ANS:- Evaluating the performance of a Bagging Classifier is crucial to ensure that it is generalizing well to unseen data and making accurate predictions. Here are some common methods used for evaluation:-\n",
        "\n",
        "**1.Holdout Method:-**\n",
        "\n",
        "Split the dataset into training and testing sets.\n",
        "\n",
        "Train the Bagging Classifier on the training set.\n",
        "\n",
        "Evaluate its performance on the testing set using appropriate metrics such as accuracy, precision, recall, F1-score, and AUC (Area Under the ROC Curve).\n",
        "\n",
        "**2.Cross-Validation:-**\n",
        "\n",
        "Divide the dataset into k folds.\n",
        "\n",
        "Train the Bagging Classifier on k-1 folds and evaluate on the remaining fold.\n",
        "\n",
        "Repeat this process k times, with each fold serving as the test set once.\n",
        "\n",
        "Average the performance metrics across all folds to get a more robust estimate of the model's performance.\n",
        "\n",
        "**3.Out-of-Bag (OOB) Score:-**\n",
        "\n",
        "This method is specific to Bagging and leverages the fact that some data points are not included in the training set for each individual classifier.\n",
        "\n",
        "The OOB score is calculated by using the excluded data points as a validation set and averaging the predictions of the classifiers that did not see those data points during training.\n",
        "\n",
        "This provides an estimate of the model's performance without the need for a separate validation set.\n",
        "\n",
        "**4.Confusion Matrix:-**\n",
        "\n",
        "A confusion matrix provides a detailed breakdown of the model's predictions by showing the number of true positives, true negatives, false positives, and false negatives.\n",
        "\n",
        "This can be used to understand the types of errors the model is making and to identify areas for improvement."
      ],
      "metadata": {
        "id": "zC87MGDKhPwo"
      }
    },
    {
      "cell_type": "markdown",
      "source": [
        "###8.  How does a Bagging Regressor work?\n",
        "\n",
        "ANS:- A Bagging Regressor is an ensemble learning method used for regression tasks. It leverages the concept of Bagging (Bootstrap Aggregating) to improve the accuracy and stability of regression models.\n",
        "\n",
        "**Working Principle**\n",
        "\n",
        "**1.Bootstrapping:-** Similar to the Bagging Classifier, the Bagging Regressor starts by creating multiple subsets of the training data using bootstrapping. This involves randomly sampling data points from the original training set with replacement.\n",
        "\n",
        "**2.Parallel Training:-** A separate base regressor (e.g., a Decision Tree Regressor) is trained on each of the bootstrapped subsets independently and in parallel.\n",
        "\n",
        "**3.Aggregation:-** Once all the base regressors are trained, their predictions are combined to make a final prediction. For regression tasks, the Bagging Regressor typically uses averaging to aggregate the predictions. The average of the predictions from all base regressors is taken as the final prediction for a given input."
      ],
      "metadata": {
        "id": "Lsq6dgfJiGX5"
      }
    },
    {
      "cell_type": "markdown",
      "source": [
        "###9. What is the main advantage of ensemble techniques?\n",
        "\n",
        "ANS:- The main advantage of ensemble techniques is that they improve the accuracy and stability of machine learning models by combining the predictions of multiple models. This is often referred to as the \"wisdom of the crowd\" effect, where the collective knowledge of a group is often more accurate than the knowledge of any single individual.\n"
      ],
      "metadata": {
        "id": "z01WBTyUiZ99"
      }
    },
    {
      "cell_type": "markdown",
      "source": [
        "###10.  What is the main challenge of ensemble methods?\n",
        "\n",
        "ANS:- The main challenge of ensemble methods is the increased computational cost associated with training and deploying multiple models. This can be particularly problematic when dealing with large datasets or complex models.\n",
        "\n",
        "**Reasoning**\n",
        "\n",
        "Ensemble methods require training and maintaining multiple models, which can significantly increase the computational resources and time required compared to using a single model. This can make ensemble methods impractical for some applications, especially those with limited resources or strict time constraints."
      ],
      "metadata": {
        "id": "7JsgWHbQiwEH"
      }
    },
    {
      "cell_type": "markdown",
      "source": [
        "###11. Explain the key idea behind ensemble techniques.\n",
        "\n",
        "ANS:- The key idea behind ensemble techniques is to combine the predictions of multiple models to improve overall performance. This is based on the principle that a group of diverse models working together can often outperform any single model.\n",
        "\n",
        "**Reasoning**\n",
        "\n",
        "Ensemble techniques exploit the diversity of individual models to achieve better performance.\n",
        "\n",
        "**1.Diversity:-** Diversity in an ensemble means that the individual models have different strengths and weaknesses. This can be achieved by using different algorithms, different training sets, or different hyperparameters.\n",
        "\n",
        "**2.Aggregation:-** The predictions of the individual models are then aggregated to produce a final prediction. This can be done through techniques such as averaging, voting, or stacking."
      ],
      "metadata": {
        "id": "FN74XhrdjXpb"
      }
    },
    {
      "cell_type": "markdown",
      "source": [
        "###12. What is a Random Forest Classifier?\n",
        "\n",
        "ANS:- A Random Forest Classifier is an ensemble learning method that belongs to the Bagging family. It constructs a multitude of decision trees during training and outputs the class that is the mode of the classes (classification) or mean prediction (regression) of the individual trees.\n",
        "\n",
        "**Working Principle**\n",
        "\n",
        "**1.Bootstrapping:-** The Random Forest Classifier starts by creating multiple subsets of the training data using bootstrapping. This involves randomly sampling data points from the original training set with replacement.\n",
        "\n",
        "**2.Feature Randomness:-** For each decision tree in the forest, a random subset of features is selected for consideration at each node. This introduces diversity and helps to prevent overfitting.\n",
        "\n",
        "**3.Tree Construction:-** A decision tree is built on each bootstrapped subset using the selected features. The trees are grown to their full depth without pruning.\n",
        "\n",
        "**4.Aggregation:-** Once all the decision trees are built, their predictions are combined to make a final prediction. For classification tasks, the Random Forest Classifier typically uses majority voting, where the class predicted by the majority of the trees is selected as the final prediction."
      ],
      "metadata": {
        "id": "GE1UaTrRkGF-"
      }
    },
    {
      "cell_type": "markdown",
      "source": [
        "###13. What are the main types of ensemble techniques?\n",
        "\n",
        "ANS:- Ensemble techniques can be broadly categorized into three main types:-\n",
        "\n",
        "**1.Bagging (Bootstrap Aggregating)**\n",
        "\n",
        "**Principle:-** Create multiple subsets of the training data using bootstrapping (random sampling with replacement). Train a separate model on each subset and combine their predictions through averaging (regression) or voting (classification).\n",
        "\n",
        "**Example:-** Random Forest, Bagging Classifier/Regressor\n",
        "\n",
        "**Benefits:-** Reduces variance, improves stability, and handles high-dimensional data well.\n",
        "\n",
        "**2.Boosting**\n",
        "\n",
        "**Principle:-** Train models sequentially, where each subsequent model focuses on correcting the errors of the previous models. Combine the predictions of all models using weighted averaging.\n",
        "\n",
        "**Example:-** AdaBoost, Gradient Boosting, XGBoost\n",
        "\n",
        "**Benefits:-** Improves accuracy, handles complex relationships, and can achieve high performance.\n",
        "\n",
        "**3.Stacking**\n",
        "\n",
        "**Principle:-** Train multiple diverse models (base learners) and combine their predictions using a meta-learner (a higher-level model). The meta-learner learns how to best combine the predictions of the base learners to make the final prediction.\n",
        "\n",
        "**Example:-** Stacking Classifier/Regressor\n",
        "\n",
        "**Benefits:-** Can potentially achieve higher accuracy than individual models and leverage the strengths of different models."
      ],
      "metadata": {
        "id": "lPok169GkuBQ"
      }
    },
    {
      "cell_type": "markdown",
      "source": [
        "###14. What is ensemble learning in machine learning?\n",
        "\n",
        "ANS:- Ensemble learning is a machine learning technique that combines the predictions of multiple models to improve overall performance. The idea is that a group of diverse models working together can often outperform any single model.\n",
        "\n",
        "**Key Principles**\n",
        "\n",
        "Ensemble learning is based on the following key principles:-\n",
        "\n",
        "**1.Diversity:-** The models in the ensemble should be diverse, meaning they have different strengths and weaknesses. This can be achieved by using different algorithms, different training sets, or different hyperparameters.\n",
        "\n",
        "**2.Aggregation:-** The predictions of the individual models are combined to produce a final prediction. This can be done through techniques such as averaging, voting, or stacking."
      ],
      "metadata": {
        "id": "ROBrWat6lZEr"
      }
    },
    {
      "cell_type": "markdown",
      "source": [
        "###15. When should we avoid using ensemble methods?\n",
        "\n",
        "ANS:- While ensemble methods are often powerful and effective, there are certain scenarios where they might not be the best choice:-\n",
        "\n",
        "**1.Limited Computational Resources:-** Ensemble methods require training and maintaining multiple models, which can be computationally expensive and time-consuming. If you have limited computational resources or strict time constraints, simpler models might be more suitable.\n",
        "\n",
        "**2.Low Dataset Complexity:-** If your dataset is relatively simple and a single model can achieve satisfactory performance, using an ensemble method might introduce unnecessary complexity without significant gains in accuracy.\n",
        "\n",
        "**3.Need for Interpretability:-** Ensemble models can be more difficult to interpret than single models, especially when combining models with different structures or algorithms. If interpretability is crucial for your application, a simpler model might be preferred.\n",
        "\n",
        "**4.Desire for Model Simplicity:-** Ensemble methods inherently increase the complexity of the model. If simplicity is a priority for deployment or maintenance, a single model might be a better option.\n",
        "\n",
        "**5.Data Scarcity:-** In cases with very limited training data, ensemble methods might struggle to generalize effectively due to the increased risk of overfitting. Using a simpler model or data augmentation techniques could be more appropriate.\n"
      ],
      "metadata": {
        "id": "pmVSJ-Vllwed"
      }
    },
    {
      "cell_type": "markdown",
      "source": [
        "###16. How does Bagging help in reducing overfitting?\n",
        "\n",
        "ANS:- Bagging, or Bootstrap Aggregating, is an ensemble technique that helps reduce overfitting in machine learning models, particularly those prone to high variance like decision trees. It achieves this through the following mechanisms:-\n",
        "\n",
        "**1.Bootstrapping:-** Bagging creates multiple subsets of the training data using bootstrapping, which involves random sampling with replacement. This means each subset is slightly different from the original dataset and from each other.\n",
        "\n",
        "**2.Training Multiple Models:-** A separate model (typically a decision tree) is trained on each bootstrapped subset. These models are trained independently and in parallel.\n",
        "\n",
        "**3.Aggregation:-** The predictions of all the individual models are combined to produce a final prediction. For classification, this is often done through majority voting, and for regression, by averaging the predictions.\n",
        "\n",
        "**How it Reduces Overfitting**\n",
        "\n",
        "**1.Reducing Variance:-** Overfitting occurs when a model learns the training data too well, including noise and random fluctuations. This leads to high variance, meaning the model's predictions are highly sensitive to small changes in the training data. By training multiple models on different subsets of the data, bagging reduces the variance of the overall model because it averages out the predictions of individual models, which are less likely to be influenced by specific instances or noise in the training data.\n",
        "\n",
        "**2.Decreasing the Impact of Outliers:-** Individual models in a bagging ensemble might be affected by outliers in their respective training subsets. However, when the predictions are aggregated, the impact of these outliers is minimized, as they are unlikely to be present in all subsets. This makes the overall model more robust to outliers.\n",
        "\n",
        "**3.Improving Generalization:-** By reducing variance and the impact of outliers, bagging helps the model generalize better to unseen data. The model is less likely to be swayed by the peculiarities of the training data and more likely to capture the underlying patterns in the data, which are more likely to hold true for new data points."
      ],
      "metadata": {
        "id": "OdBIHa11mKXl"
      }
    },
    {
      "cell_type": "markdown",
      "source": [
        "###17. Why is Random Forest better than a single Decision Tree?\n",
        "\n",
        "ANS:- Random Forest models often outperform single Decision Trees due to their ensemble nature and the introduction of randomness. Here's a breakdown of the key reasons:-\n",
        "\n",
        "**1.Reduced Overfitting:-** Decision Trees are prone to overfitting, where they learn the training data too well and fail to generalize to new data. Random Forest mitigates this by creating an ensemble of trees trained on different subsets of the data and features. This reduces the variance and improves the model's ability to generalize.\n",
        "\n",
        "**2.Improved Accuracy:-** By combining the predictions of multiple trees, Random Forest achieves higher accuracy than a single Decision Tree. The ensemble approach leverages the \"wisdom of the crowd,\" where the collective knowledge of multiple models is often more accurate than any single model.\n",
        "\n",
        "**3.Robustness to Noise and Outliers:-** Random Forest is less sensitive to noise and outliers in the data compared to a single Decision Tree. The averaging or voting mechanism in the ensemble helps to smooth out the impact of noisy data points or outliers, leading to a more robust model.\n",
        "\n",
        "**4.Handling High-Dimensional Data:-** Random Forest can effectively handle datasets with a large number of features. The random feature selection process at each node of the trees helps to prevent overfitting and identify the most important features for prediction.\n",
        "\n",
        "**5.Feature Importance:-** Random Forest provides a measure of feature importance, which can be used for feature selection and understanding the model's behavior. This information is valuable for gaining insights into the data and improving the model's performance.\n",
        "\n",
        "**6.Stability:-** Random Forest models are generally more stable than single Decision Trees. Small changes in the training data are less likely to significantly affect the overall performance of the ensemble."
      ],
      "metadata": {
        "id": "yKlREOkempvq"
      }
    },
    {
      "cell_type": "markdown",
      "source": [
        "###18. What is the role of bootstrap sampling in Bagging?\n",
        "\n",
        "ANS:- Bootstrap sampling plays a crucial role in Bagging (Bootstrap Aggregating) by creating diverse subsets of the training data for training individual models in the ensemble. Here's how it works:-\n",
        "\n",
        "**1.Creating Bootstrap Samples:-**\n",
        "\n",
        "In Bagging, multiple subsets of the training data are created using bootstrap sampling.\n",
        "\n",
        "Bootstrap sampling involves randomly selecting data points from the original training set with replacement.\n",
        "\n",
        "This means that some data points may appear multiple times in a single subset, while others may be excluded.\n",
        "\n",
        "**2.Training Base Models:-**\n",
        "\n",
        "A separate base model (e.g., a decision tree) is trained on each of the bootstrapped subsets.\n",
        "\n",
        "Since each subset is slightly different due to the random sampling, the base models trained on them will also be different.\n",
        "\n",
        "**3.Promoting Diversity:-**\n",
        "\n",
        "This process of creating diverse subsets through bootstrap sampling is key to the success of Bagging.\n",
        "\n",
        "By training base models on different subsets, Bagging introduces diversity into the ensemble.\n",
        "\n",
        "This diversity helps to reduce overfitting and improve the overall generalization performance of the ensemble model."
      ],
      "metadata": {
        "id": "cmK5DpG9nD3T"
      }
    },
    {
      "cell_type": "markdown",
      "source": [
        "###19. What are some real-world applications of ensemble techniques?\n",
        "\n",
        "ANS:- Ensemble techniques are widely used in various domains to improve the accuracy and robustness of machine learning models. Here are some notable real-world applications:\n",
        "\n",
        "**1. Finance:-**\n",
        "\n",
        "**Credit Scoring:-** Ensemble methods are used to assess the creditworthiness of individuals by combining predictions from multiple models, helping financial institutions make informed lending decisions.\n",
        "\n",
        "**Fraud Detection:-** Ensemble techniques are employed to identify fraudulent transactions by analyzing patterns and anomalies in financial data, protecting businesses and consumers from financial losses.\n",
        "\n",
        "**Risk Management:-** Ensemble models help financial institutions assess and manage risks associated with investments, loans, and other financial activities.\n",
        "\n",
        "**2. Healthcare:-**\n",
        "\n",
        "**Disease Prediction and Diagnosis:-** Ensemble methods are used to predict the likelihood of diseases and aid in their diagnosis by combining information from various medical tests and patient records, improving patient outcomes.\n",
        "\n",
        "**Medical Image Analysis:-** Ensemble techniques enhance the accuracy of medical image analysis, such as identifying tumors in X-rays or classifying cells in microscopic images, assisting medical professionals in making critical decisions.\n",
        "\n",
        "**Drug Discovery:-** Ensemble models are used to accelerate drug discovery by predicting the efficacy and safety of potential drug candidates, reducing the time and cost of developing new treatments.\n",
        "\n",
        "**3. Marketing:-**\n",
        "\n",
        "**Customer Segmentation and Targeting:-** Ensemble methods help businesses segment their customers into distinct groups based on their preferences and behaviors, enabling targeted marketing campaigns for increased effectiveness.\n",
        "\n",
        "**Sales Forecasting:-** Ensemble models are used to predict future sales based on historical data and market trends, helping businesses optimize inventory and resource allocation.\n",
        "\n",
        "**Recommendation Systems:-** Ensemble techniques power recommendation systems by combining predictions from multiple models to suggest products or services that customers are likely to be interested in.\n",
        "\n",
        "**4. Cybersecurity:-**\n",
        "\n",
        "**Intrusion Detection:-** Ensemble methods are used to detect malicious activities in computer networks by analyzing network traffic and system logs, helping to prevent cyberattacks.\n",
        "\n",
        "**Spam Filtering:-** Ensemble techniques improve the accuracy of spam filters by combining predictions from multiple models to identify and block unwanted emails.\n",
        "\n",
        "**Malware Detection:-** Ensemble models are used to detect and classify malware by analyzing file characteristics and behavior, protecting computer systems from harmful software.\n",
        "\n",
        "**5. Other Applications:-**\n",
        "\n",
        "**Natural Language Processing:-** Ensemble techniques enhance tasks like sentiment analysis, text classification, and machine translation.\n",
        "\n",
        "**Image Recognition:-** Ensemble methods are used to improve the accuracy of image recognition systems, such as those used for facial recognition or object detection.\n",
        "\n",
        "**Remote Sensing:-** Ensemble techniques are employed to analyze satellite imagery for tasks like land cover classification, environmental monitoring, and disaster response."
      ],
      "metadata": {
        "id": "9xkSJ9GjncTR"
      }
    },
    {
      "cell_type": "markdown",
      "source": [
        "###20.  What is the difference between Bagging and Boosting?\n",
        "\n",
        "ANS:- Bagging (Bootstrap Aggregating) and Boosting are both ensemble learning techniques that improve model performance by combining multiple weak learners. However, they differ in their approach:-\n",
        "\n",
        "**Bagging:-**\n",
        "\n",
        "**1.Parallel Learning:-** Each base model (weak learner) is trained independently in parallel on different bootstrap samples (random subsets with replacement).\n",
        "\n",
        "**2.Reduces Variance:-** The final prediction is obtained by averaging (for regression) or majority voting (for classification), reducing overfitting.\n",
        "\n",
        "**3.Same Weighting:-** Each model contributes equally to the final prediction.\n",
        "\n",
        "**4.Example Algorithm:-** Random Forest (which is an ensemble of decision trees using bagging).\n",
        "\n",
        "**Boosting:-**\n",
        "\n",
        "**1.Sequential Learning:-** Models are trained sequentially, where each new model focuses on correcting the mistakes of the previous models.\n",
        "\n",
        "**2.Reduces Bias:-** It improves weak learners by giving more weight to misclassified samples, making it good for handling complex patterns.\n",
        "\n",
        "**3.Weighted Combination:-** Models are assigned different weights based on their accuracy.\n",
        "\n",
        "**Example Algorithms:-** AdaBoost, Gradient Boosting, XGBoost."
      ],
      "metadata": {
        "id": "CMYZD_H5oYMW"
      }
    },
    {
      "cell_type": "markdown",
      "source": [
        "#Practical\n",
        "\n",
        "###21. Train a Bagging Classifier using Decision Trees on a sample dataset and print model accuracy."
      ],
      "metadata": {
        "id": "BAL50eStpStT"
      }
    },
    {
      "cell_type": "code",
      "source": [
        "from sklearn.ensemble import BaggingClassifier\n",
        "from sklearn.tree import DecisionTreeClassifier\n",
        "from sklearn.datasets import make_classification\n",
        "from sklearn.model_selection import train_test_split\n",
        "from sklearn.metrics import accuracy_score\n",
        "\n",
        "# Generate a sample dataset\n",
        "X, y = make_classification(n_samples=1000, n_features=20, random_state=42)\n",
        "\n",
        "# Split into training and testing sets\n",
        "X_train, X_test, y_train, y_test = train_test_split(X, y, test_size=0.2, random_state=42)\n",
        "\n",
        "# Create a Bagging Classifier with Decision Trees\n",
        "# The 'base_estimator' argument has been replaced with 'estimator'\n",
        "bagging_clf = BaggingClassifier(estimator=DecisionTreeClassifier(), n_estimators=50, random_state=42)\n",
        "\n",
        "# Train the model\n",
        "bagging_clf.fit(X_train, y_train)\n",
        "\n",
        "# Predict on test set\n",
        "y_pred = bagging_clf.predict(X_test)\n",
        "\n",
        "# Calculate accuracy\n",
        "accuracy = accuracy_score(y_test, y_pred)\n",
        "print(f\"Model Accuracy: {accuracy:.2%}\")"
      ],
      "metadata": {
        "colab": {
          "base_uri": "https://localhost:8080/"
        },
        "id": "vbZZyk7I0cQM",
        "outputId": "0de64fcf-3c17-483f-8d33-b85624099653"
      },
      "execution_count": 3,
      "outputs": [
        {
          "output_type": "stream",
          "name": "stdout",
          "text": [
            "Model Accuracy: 88.50%\n"
          ]
        }
      ]
    },
    {
      "cell_type": "markdown",
      "source": [
        "###22. Train a Bagging Regressor using Decision Trees and evaluate using Mean Squared Error (MSE)."
      ],
      "metadata": {
        "id": "rleXMqp40pQR"
      }
    },
    {
      "cell_type": "code",
      "source": [
        "from sklearn.ensemble import BaggingRegressor\n",
        "from sklearn.tree import DecisionTreeRegressor\n",
        "from sklearn.datasets import make_regression\n",
        "from sklearn.model_selection import train_test_split\n",
        "from sklearn.metrics import mean_squared_error\n",
        "\n",
        "# Generate a sample regression dataset\n",
        "X, y = make_regression(n_samples=1000, n_features=20, noise=0.1, random_state=42)\n",
        "\n",
        "# Split into training and testing sets\n",
        "X_train, X_test, y_train, y_test = train_test_split(X, y, test_size=0.2, random_state=42)\n",
        "\n",
        "# Create a Bagging Regressor with Decision Trees\n",
        "# The 'base_estimator' argument has been replaced with 'estimator'\n",
        "bagging_reg = BaggingRegressor(estimator=DecisionTreeRegressor(), n_estimators=50, random_state=42)\n",
        "\n",
        "# Train the model\n",
        "bagging_reg.fit(X_train, y_train)\n",
        "\n",
        "# Predict on test set\n",
        "y_pred = bagging_reg.predict(X_test)\n",
        "\n",
        "# Calculate Mean Squared Error (MSE)\n",
        "mse = mean_squared_error(y_test, y_pred)\n",
        "print(f\"Mean Squared Error (MSE): {mse:.4f}\")"
      ],
      "metadata": {
        "colab": {
          "base_uri": "https://localhost:8080/"
        },
        "id": "nQs0jvN307Iv",
        "outputId": "3d30ea16-9d97-42fa-8e59-46e534a6b8d9"
      },
      "execution_count": 5,
      "outputs": [
        {
          "output_type": "stream",
          "name": "stdout",
          "text": [
            "Mean Squared Error (MSE): 7109.3879\n"
          ]
        }
      ]
    },
    {
      "cell_type": "markdown",
      "source": [
        "###23. Train a Random Forest Classifier on the Breast Cancer dataset and print feature importance scores."
      ],
      "metadata": {
        "id": "EDGFWygU0-0W"
      }
    },
    {
      "cell_type": "code",
      "source": [
        "from sklearn.ensemble import RandomForestClassifier\n",
        "from sklearn.datasets import load_breast_cancer\n",
        "from sklearn.model_selection import train_test_split\n",
        "import numpy as np\n",
        "\n",
        "# Load the Breast Cancer dataset\n",
        "data = load_breast_cancer()\n",
        "X, y = data.data, data.target\n",
        "\n",
        "# Split into training and testing sets\n",
        "X_train, X_test, y_train, y_test = train_test_split(X, y, test_size=0.2, random_state=42)\n",
        "\n",
        "# Create and train a Random Forest Classifier\n",
        "rf_clf = RandomForestClassifier(n_estimators=100, random_state=42)\n",
        "rf_clf.fit(X_train, y_train)\n",
        "\n",
        "# Get feature importance scores\n",
        "feature_importances = rf_clf.feature_importances_\n",
        "\n",
        "# Print feature importance scores\n",
        "for feature, importance in zip(data.feature_names, feature_importances):\n",
        "    print(f\"{feature}: {importance:.4f}\")"
      ],
      "metadata": {
        "colab": {
          "base_uri": "https://localhost:8080/"
        },
        "id": "IgpJX9uG1Dwv",
        "outputId": "978270c4-de05-4cb4-a76b-32e782f56679"
      },
      "execution_count": 6,
      "outputs": [
        {
          "output_type": "stream",
          "name": "stdout",
          "text": [
            "mean radius: 0.0487\n",
            "mean texture: 0.0136\n",
            "mean perimeter: 0.0533\n",
            "mean area: 0.0476\n",
            "mean smoothness: 0.0073\n",
            "mean compactness: 0.0139\n",
            "mean concavity: 0.0680\n",
            "mean concave points: 0.1062\n",
            "mean symmetry: 0.0038\n",
            "mean fractal dimension: 0.0039\n",
            "radius error: 0.0201\n",
            "texture error: 0.0047\n",
            "perimeter error: 0.0113\n",
            "area error: 0.0224\n",
            "smoothness error: 0.0043\n",
            "compactness error: 0.0053\n",
            "concavity error: 0.0094\n",
            "concave points error: 0.0035\n",
            "symmetry error: 0.0040\n",
            "fractal dimension error: 0.0053\n",
            "worst radius: 0.0780\n",
            "worst texture: 0.0217\n",
            "worst perimeter: 0.0671\n",
            "worst area: 0.1539\n",
            "worst smoothness: 0.0106\n",
            "worst compactness: 0.0203\n",
            "worst concavity: 0.0318\n",
            "worst concave points: 0.1447\n",
            "worst symmetry: 0.0101\n",
            "worst fractal dimension: 0.0052\n"
          ]
        }
      ]
    },
    {
      "cell_type": "markdown",
      "source": [
        "###24. Train a Random Forest Regressor and compare its performance with a single Decision Tree."
      ],
      "metadata": {
        "id": "7XtyBhAS1LSe"
      }
    },
    {
      "cell_type": "code",
      "source": [
        "from sklearn.ensemble import RandomForestRegressor\n",
        "from sklearn.tree import DecisionTreeRegressor\n",
        "from sklearn.datasets import make_regression\n",
        "from sklearn.model_selection import train_test_split\n",
        "from sklearn.metrics import mean_squared_error\n",
        "\n",
        "# Generate a sample regression dataset\n",
        "X, y = make_regression(n_samples=1000, n_features=20, noise=0.1, random_state=42)\n",
        "\n",
        "# Split into training and testing sets\n",
        "X_train, X_test, y_train, y_test = train_test_split(X, y, test_size=0.2, random_state=42)\n",
        "\n",
        "# Train a Decision Tree Regressor\n",
        "dt_reg = DecisionTreeRegressor(random_state=42)\n",
        "dt_reg.fit(X_train, y_train)\n",
        "dt_pred = dt_reg.predict(X_test)\n",
        "dt_mse = mean_squared_error(y_test, dt_pred)\n",
        "\n",
        "# Train a Random Forest Regressor\n",
        "rf_reg = RandomForestRegressor(n_estimators=100, random_state=42)\n",
        "rf_reg.fit(X_train, y_train)\n",
        "rf_pred = rf_reg.predict(X_test)\n",
        "rf_mse = mean_squared_error(y_test, rf_pred)\n",
        "\n",
        "# Print the performance comparison\n",
        "print(f\"Decision Tree MSE: {dt_mse:.4f}\")\n",
        "print(f\"Random Forest MSE: {rf_mse:.4f}\")"
      ],
      "metadata": {
        "colab": {
          "base_uri": "https://localhost:8080/"
        },
        "id": "Uy-Oaiw61SFK",
        "outputId": "3a40fbce-0e27-4bdf-c708-86071143334b"
      },
      "execution_count": 7,
      "outputs": [
        {
          "output_type": "stream",
          "name": "stdout",
          "text": [
            "Decision Tree MSE: 20519.2975\n",
            "Random Forest MSE: 7055.5077\n"
          ]
        }
      ]
    },
    {
      "cell_type": "markdown",
      "source": [
        "###25.  Compute the Out-of-Bag (OOB) Score for a Random Forest Classifier."
      ],
      "metadata": {
        "id": "lLUnsDbi1l6l"
      }
    },
    {
      "cell_type": "code",
      "source": [
        "from sklearn.ensemble import RandomForestClassifier\n",
        "from sklearn.datasets import load_breast_cancer\n",
        "from sklearn.model_selection import train_test_split\n",
        "\n",
        "# Load the Breast Cancer dataset\n",
        "data = load_breast_cancer()\n",
        "X, y = data.data, data.target\n",
        "\n",
        "# Split into training and testing sets\n",
        "X_train, X_test, y_train, y_test = train_test_split(X, y, test_size=0.2, random_state=42)\n",
        "\n",
        "# Train a Random Forest Classifier with OOB score enabled\n",
        "rf_clf = RandomForestClassifier(n_estimators=100, oob_score=True, random_state=42)\n",
        "rf_clf.fit(X_train, y_train)\n",
        "\n",
        "# Compute and print the Out-of-Bag (OOB) Score\n",
        "print(f\"Out-of-Bag (OOB) Score: {rf_clf.oob_score_:.4f}\")"
      ],
      "metadata": {
        "colab": {
          "base_uri": "https://localhost:8080/"
        },
        "id": "50sOYaCZ1rNy",
        "outputId": "62166711-a110-454e-a902-188dfb53515b"
      },
      "execution_count": 8,
      "outputs": [
        {
          "output_type": "stream",
          "name": "stdout",
          "text": [
            "Out-of-Bag (OOB) Score: 0.9560\n"
          ]
        }
      ]
    },
    {
      "cell_type": "markdown",
      "source": [
        "###26. Train a Bagging Classifier using SVM as a base estimator and print accuracy."
      ],
      "metadata": {
        "id": "UY6-RG5410H0"
      }
    },
    {
      "cell_type": "code",
      "source": [
        "from sklearn.ensemble import BaggingClassifier\n",
        "from sklearn.svm import SVC\n",
        "from sklearn.datasets import load_breast_cancer\n",
        "from sklearn.model_selection import train_test_split\n",
        "from sklearn.metrics import accuracy_score\n",
        "\n",
        "# Load the Breast Cancer dataset\n",
        "data = load_breast_cancer()\n",
        "X, y = data.data, data.target\n",
        "\n",
        "# Split into training and testing sets\n",
        "X_train, X_test, y_train, y_test = train_test_split(X, y, test_size=0.2, random_state=42)\n",
        "\n",
        "# Train a Bagging Classifier using SVM as base estimator\n",
        "# The 'base_estimator' argument has been replaced with 'estimator'\n",
        "bagging_clf = BaggingClassifier(estimator=SVC(), n_estimators=50, random_state=42)\n",
        "bagging_clf.fit(X_train, y_train)\n",
        "\n",
        "# Predict on test set\n",
        "y_pred = bagging_clf.predict(X_test)\n",
        "\n",
        "# Compute and print accuracy\n",
        "accuracy = accuracy_score(y_test, y_pred)\n",
        "print(f\"Bagging Classifier Accuracy: {accuracy:.4f}\")"
      ],
      "metadata": {
        "colab": {
          "base_uri": "https://localhost:8080/"
        },
        "id": "eoL22Y272Odp",
        "outputId": "d191b214-1763-40f5-e847-4513f2b2c330"
      },
      "execution_count": 10,
      "outputs": [
        {
          "output_type": "stream",
          "name": "stdout",
          "text": [
            "Bagging Classifier Accuracy: 0.9474\n"
          ]
        }
      ]
    },
    {
      "cell_type": "markdown",
      "source": [
        "###27. Train a Random Forest Classifier with different numbers of trees and compare accuracy."
      ],
      "metadata": {
        "id": "l5zanFH92SGD"
      }
    },
    {
      "cell_type": "code",
      "source": [
        "from sklearn.ensemble import RandomForestClassifier\n",
        "from sklearn.datasets import load_breast_cancer\n",
        "from sklearn.model_selection import train_test_split\n",
        "from sklearn.metrics import accuracy_score\n",
        "\n",
        "# Load the Breast Cancer dataset\n",
        "data = load_breast_cancer()\n",
        "X, y = data.data, data.target\n",
        "\n",
        "# Split into training and testing sets\n",
        "X_train, X_test, y_train, y_test = train_test_split(X, y, test_size=0.2, random_state=42)\n",
        "\n",
        "# Train Random Forest Classifiers with different numbers of trees\n",
        "n_estimators_list = [10, 50, 100, 200]\n",
        "accuracy_results = {}\n",
        "\n",
        "for n in n_estimators_list:\n",
        "    rf_clf = RandomForestClassifier(n_estimators=n, random_state=42)\n",
        "    rf_clf.fit(X_train, y_train)\n",
        "    y_pred = rf_clf.predict(X_test)\n",
        "    accuracy = accuracy_score(y_test, y_pred)\n",
        "    accuracy_results[n] = accuracy\n",
        "    print(f\"Random Forest with {n} trees - Accuracy: {accuracy:.4f}\")"
      ],
      "metadata": {
        "colab": {
          "base_uri": "https://localhost:8080/"
        },
        "id": "T86kyuy02XIX",
        "outputId": "d3c06a09-10a0-479e-d4ca-2c532f474a93"
      },
      "execution_count": 11,
      "outputs": [
        {
          "output_type": "stream",
          "name": "stdout",
          "text": [
            "Random Forest with 10 trees - Accuracy: 0.9561\n",
            "Random Forest with 50 trees - Accuracy: 0.9649\n",
            "Random Forest with 100 trees - Accuracy: 0.9649\n",
            "Random Forest with 200 trees - Accuracy: 0.9649\n"
          ]
        }
      ]
    },
    {
      "cell_type": "markdown",
      "source": [
        "###28. Train a Bagging Classifier using Logistic Regression as a base estimator and print AUC score."
      ],
      "metadata": {
        "id": "yv9VXuM62d1Y"
      }
    },
    {
      "cell_type": "code",
      "source": [
        "from sklearn.ensemble import BaggingClassifier\n",
        "from sklearn.linear_model import LogisticRegression\n",
        "from sklearn.datasets import load_breast_cancer\n",
        "from sklearn.model_selection import train_test_split\n",
        "from sklearn.metrics import roc_auc_score\n",
        "\n",
        "# Load the Breast Cancer dataset\n",
        "data = load_breast_cancer()\n",
        "X, y = data.data, data.target\n",
        "\n",
        "# Split into training and testing sets\n",
        "X_train, X_test, y_train, y_test = train_test_split(X, y, test_size=0.2, random_state=42)\n",
        "\n",
        "# Train a Bagging Classifier using Logistic Regression as base estimator\n",
        "# The 'base_estimator' argument has been replaced with 'estimator'\n",
        "bagging_clf = BaggingClassifier(estimator=LogisticRegression(max_iter=1000, solver='liblinear'),\n",
        "                                n_estimators=50, random_state=42)\n",
        "bagging_clf.fit(X_train, y_train)\n",
        "\n",
        "# Predict probabilities on test set\n",
        "y_pred_prob = bagging_clf.predict_proba(X_test)[:, 1]\n",
        "\n",
        "# Compute and print AUC score\n",
        "auc_score = roc_auc_score(y_test, y_pred_prob)\n",
        "print(f\"Bagging Classifier AUC Score: {auc_score:.4f}\")"
      ],
      "metadata": {
        "colab": {
          "base_uri": "https://localhost:8080/"
        },
        "id": "X3F8RKM63XSk",
        "outputId": "c31f05a6-4f0a-4897-bf1a-ecb33daa6847"
      },
      "execution_count": 16,
      "outputs": [
        {
          "output_type": "stream",
          "name": "stdout",
          "text": [
            "Bagging Classifier AUC Score: 0.9974\n"
          ]
        }
      ]
    },
    {
      "cell_type": "markdown",
      "source": [
        "###29.Train a Random Forest Regressor and analyze feature importance scores."
      ],
      "metadata": {
        "id": "Nvkyr7Bv3Zu1"
      }
    },
    {
      "cell_type": "code",
      "source": [
        "from sklearn.ensemble import RandomForestRegressor\n",
        "from sklearn.datasets import make_regression\n",
        "from sklearn.model_selection import train_test_split\n",
        "import numpy as np\n",
        "\n",
        "# Generate a sample regression dataset\n",
        "X, y = make_regression(n_samples=1000, n_features=20, noise=0.1, random_state=42)\n",
        "\n",
        "# Split into training and testing sets\n",
        "X_train, X_test, y_train, y_test = train_test_split(X, y, test_size=0.2, random_state=42)\n",
        "\n",
        "# Train a Random Forest Regressor\n",
        "rf_reg = RandomForestRegressor(n_estimators=100, random_state=42)\n",
        "rf_reg.fit(X_train, y_train)\n",
        "\n",
        "# Get feature importance scores\n",
        "feature_importances = rf_reg.feature_importances_\n",
        "\n",
        "# Print feature importance scores\n",
        "for i, importance in enumerate(feature_importances):\n",
        "    print(f\"Feature {i}: {importance:.4f}\")"
      ],
      "metadata": {
        "colab": {
          "base_uri": "https://localhost:8080/"
        },
        "id": "hlFH1bU83ez5",
        "outputId": "69f2fdad-aa89-4c4d-c1f7-d003dc938a8c"
      },
      "execution_count": 17,
      "outputs": [
        {
          "output_type": "stream",
          "name": "stdout",
          "text": [
            "Feature 0: 0.1468\n",
            "Feature 1: 0.2369\n",
            "Feature 2: 0.0096\n",
            "Feature 3: 0.0085\n",
            "Feature 4: 0.1722\n",
            "Feature 5: 0.0077\n",
            "Feature 6: 0.1051\n",
            "Feature 7: 0.0090\n",
            "Feature 8: 0.0087\n",
            "Feature 9: 0.0075\n",
            "Feature 10: 0.0091\n",
            "Feature 11: 0.0258\n",
            "Feature 12: 0.0079\n",
            "Feature 13: 0.0078\n",
            "Feature 14: 0.0084\n",
            "Feature 15: 0.0181\n",
            "Feature 16: 0.0088\n",
            "Feature 17: 0.1848\n",
            "Feature 18: 0.0095\n",
            "Feature 19: 0.0079\n"
          ]
        }
      ]
    },
    {
      "cell_type": "markdown",
      "source": [
        "###30. Train an ensemble model using both Bagging and Random Forest and compare accuracy."
      ],
      "metadata": {
        "id": "E1XBlztP3l6o"
      }
    },
    {
      "cell_type": "code",
      "source": [
        "from sklearn.ensemble import RandomForestRegressor, BaggingRegressor\n",
        "from sklearn.tree import DecisionTreeRegressor\n",
        "from sklearn.datasets import make_regression\n",
        "from sklearn.model_selection import train_test_split\n",
        "from sklearn.metrics import mean_squared_error\n",
        "import numpy as np\n",
        "\n",
        "# Generate a sample regression dataset\n",
        "X, y = make_regression(n_samples=1000, n_features=20, noise=0.1, random_state=42)\n",
        "\n",
        "# Split into training and testing sets\n",
        "X_train, X_test, y_train, y_test = train_test_split(X, y, test_size=0.2, random_state=42)\n",
        "\n",
        "# Train a Random Forest Regressor\n",
        "rf_reg = RandomForestRegressor(n_estimators=100, random_state=42)\n",
        "rf_reg.fit(X_train, y_train)\n",
        "rf_pred = rf_reg.predict(X_test)\n",
        "rf_mse = mean_squared_error(y_test, rf_pred)\n",
        "\n",
        "# Train a Bagging Regressor using Decision Tree as base estimator\n",
        "# The 'base_estimator' argument has been replaced with 'estimator'\n",
        "bagging_reg = BaggingRegressor(estimator=DecisionTreeRegressor(), n_estimators=50, random_state=42)\n",
        "bagging_reg.fit(X_train, y_train)\n",
        "bagging_pred = bagging_reg.predict(X_test)\n",
        "bagging_mse = mean_squared_error(y_test, bagging_pred)\n",
        "\n",
        "# Compare performance\n",
        "print(f\"Random Forest MSE: {rf_mse:.4f}\")\n",
        "print(f\"Bagging Regressor MSE: {bagging_mse:.4f}\")"
      ],
      "metadata": {
        "colab": {
          "base_uri": "https://localhost:8080/"
        },
        "id": "cqzwq6mG310P",
        "outputId": "5370bffe-3dae-4fc5-8717-bcd1a9a225d4"
      },
      "execution_count": 19,
      "outputs": [
        {
          "output_type": "stream",
          "name": "stdout",
          "text": [
            "Random Forest MSE: 7055.5077\n",
            "Bagging Regressor MSE: 7109.3879\n"
          ]
        }
      ]
    },
    {
      "cell_type": "markdown",
      "source": [
        "###31. Train a Random Forest Classifier and tune hyperparameters using GridSearchCV."
      ],
      "metadata": {
        "id": "PzEEahA64WiF"
      }
    },
    {
      "cell_type": "code",
      "source": [
        "from sklearn.ensemble import RandomForestClassifier\n",
        "from sklearn.datasets import load_breast_cancer\n",
        "from sklearn.model_selection import train_test_split, GridSearchCV\n",
        "from sklearn.metrics import accuracy_score\n",
        "\n",
        "# Load the Breast Cancer dataset\n",
        "data = load_breast_cancer()\n",
        "X, y = data.data, data.target\n",
        "\n",
        "# Split into training and testing sets\n",
        "X_train, X_test, y_train, y_test = train_test_split(X, y, test_size=0.2, random_state=42)\n",
        "\n",
        "# Define the parameter grid for GridSearchCV\n",
        "param_grid = {\n",
        "    'n_estimators': [50, 100, 200],\n",
        "    'max_depth': [None, 10, 20],\n",
        "    'min_samples_split': [2, 5, 10],\n",
        "    'min_samples_leaf': [1, 2, 4]\n",
        "}\n",
        "\n",
        "# Initialize Random Forest Classifier\n",
        "rf_clf = RandomForestClassifier(random_state=42)\n",
        "\n",
        "# Perform Grid Search with cross-validation\n",
        "grid_search = GridSearchCV(rf_clf, param_grid, cv=5, n_jobs=-1, scoring='accuracy')\n",
        "grid_search.fit(X_train, y_train)\n",
        "\n",
        "# Get the best model and evaluate on the test set\n",
        "best_rf_clf = grid_search.best_estimator_\n",
        "y_pred = best_rf_clf.predict(X_test)\n",
        "accuracy = accuracy_score(y_test, y_pred)\n",
        "\n",
        "# Print the best parameters and accuracy\n",
        "print(f\"Best Parameters: {grid_search.best_params_}\")\n",
        "print(f\"Best Model Accuracy: {accuracy:.4f}\")"
      ],
      "metadata": {
        "colab": {
          "base_uri": "https://localhost:8080/"
        },
        "id": "RG0jWplS4seK",
        "outputId": "009e16ef-77ed-4cf2-f49a-fff5b8476700"
      },
      "execution_count": 22,
      "outputs": [
        {
          "output_type": "stream",
          "name": "stdout",
          "text": [
            "Best Parameters: {'max_depth': None, 'min_samples_leaf': 1, 'min_samples_split': 2, 'n_estimators': 200}\n",
            "Best Model Accuracy: 0.9649\n"
          ]
        }
      ]
    },
    {
      "cell_type": "markdown",
      "source": [
        "###32. Train a Bagging Regressor with different numbers of base estimators and compare performance."
      ],
      "metadata": {
        "id": "_vK8KATd5OPS"
      }
    },
    {
      "cell_type": "code",
      "source": [
        "from sklearn.ensemble import BaggingRegressor\n",
        "from sklearn.tree import DecisionTreeRegressor\n",
        "from sklearn.datasets import make_regression\n",
        "from sklearn.model_selection import train_test_split\n",
        "from sklearn.metrics import mean_squared_error\n",
        "import numpy as np\n",
        "\n",
        "# Generate a sample regression dataset\n",
        "X, y = make_regression(n_samples=1000, n_features=20, noise=0.1, random_state=42)\n",
        "\n",
        "# Split into training and testing sets\n",
        "X_train, X_test, y_train, y_test = train_test_split(X, y, test_size=0.2, random_state=42)\n",
        "\n",
        "# Train Bagging Regressors with different numbers of base estimators\n",
        "n_estimators_list = [10, 50, 100, 200]\n",
        "performance_results = {}\n",
        "\n",
        "for n in n_estimators_list:\n",
        "    # Replace 'base_estimator' with 'estimator'\n",
        "    bagging_reg = BaggingRegressor(estimator=DecisionTreeRegressor(), n_estimators=n, random_state=42)\n",
        "    bagging_reg.fit(X_train, y_train)\n",
        "    y_pred = bagging_reg.predict(X_test)\n",
        "    mse = mean_squared_error(y_test, y_pred)\n",
        "    performance_results[n] = mse\n",
        "    print(f\"Bagging Regressor with {n} estimators - MSE: {mse:.4f}\")"
      ],
      "metadata": {
        "colab": {
          "base_uri": "https://localhost:8080/"
        },
        "id": "A65LbFLh5l6g",
        "outputId": "9946dee0-5176-4fe8-f339-c3c9a6a3f18f"
      },
      "execution_count": 24,
      "outputs": [
        {
          "output_type": "stream",
          "name": "stdout",
          "text": [
            "Bagging Regressor with 10 estimators - MSE: 7484.1473\n",
            "Bagging Regressor with 50 estimators - MSE: 7109.3879\n",
            "Bagging Regressor with 100 estimators - MSE: 6967.8637\n",
            "Bagging Regressor with 200 estimators - MSE: 6688.6688\n"
          ]
        }
      ]
    },
    {
      "cell_type": "markdown",
      "source": [
        "###33.Train a Random Forest Classifier and analyze misclassified samples."
      ],
      "metadata": {
        "id": "V20M9Gmd5r2I"
      }
    },
    {
      "cell_type": "code",
      "source": [
        "from sklearn.ensemble import RandomForestClassifier\n",
        "from sklearn.datasets import load_breast_cancer\n",
        "from sklearn.model_selection import train_test_split\n",
        "from sklearn.metrics import accuracy_score\n",
        "import numpy as np\n",
        "\n",
        "# Load the Breast Cancer dataset\n",
        "data = load_breast_cancer()\n",
        "X, y = data.data, data.target\n",
        "\n",
        "# Split into training and testing sets\n",
        "X_train, X_test, y_train, y_test = train_test_split(X, y, test_size=0.2, random_state=42)\n",
        "\n",
        "# Train a Random Forest Classifier\n",
        "rf_clf = RandomForestClassifier(n_estimators=100, random_state=42)\n",
        "rf_clf.fit(X_train, y_train)\n",
        "\n",
        "# Predict on the test set\n",
        "y_pred = rf_clf.predict(X_test)\n",
        "accuracy = accuracy_score(y_test, y_pred)\n",
        "print(f\"Random Forest Classifier Accuracy: {accuracy:.4f}\")\n",
        "\n",
        "# Identify misclassified samples\n",
        "misclassified_indices = np.where(y_test != y_pred)[0]\n",
        "print(f\"Number of misclassified samples: {len(misclassified_indices)}\")\n",
        "print(\"Misclassified sample indices:\", misclassified_indices)"
      ],
      "metadata": {
        "colab": {
          "base_uri": "https://localhost:8080/"
        },
        "id": "tikaKNYy5w9u",
        "outputId": "274995fe-9521-4ff4-8382-9ba813a1e80b"
      },
      "execution_count": 25,
      "outputs": [
        {
          "output_type": "stream",
          "name": "stdout",
          "text": [
            "Random Forest Classifier Accuracy: 0.9649\n",
            "Number of misclassified samples: 4\n",
            "Misclassified sample indices: [ 8 20 77 82]\n"
          ]
        }
      ]
    },
    {
      "cell_type": "markdown",
      "source": [
        "###34. Train a Bagging Classifier and compare its performance with a single Decision Tree Classifier."
      ],
      "metadata": {
        "id": "OPo-f3xT532g"
      }
    },
    {
      "cell_type": "code",
      "source": [
        "from sklearn.ensemble import BaggingClassifier\n",
        "from sklearn.tree import DecisionTreeClassifier\n",
        "from sklearn.datasets import load_breast_cancer\n",
        "from sklearn.model_selection import train_test_split\n",
        "from sklearn.metrics import accuracy_score\n",
        "import numpy as np\n",
        "\n",
        "# Load the Breast Cancer dataset\n",
        "data = load_breast_cancer()\n",
        "X, y = data.data, data.target\n",
        "\n",
        "# Split into training and testing sets\n",
        "X_train, X_test, y_train, y_test = train_test_split(X, y, test_size=0.2, random_state=42)\n",
        "\n",
        "# Train a Single Decision Tree Classifier\n",
        "dt_clf = DecisionTreeClassifier(random_state=42)\n",
        "dt_clf.fit(X_train, y_train)\n",
        "dt_pred = dt_clf.predict(X_test)\n",
        "dt_accuracy = accuracy_score(y_test, dt_pred)\n",
        "print(f\"Decision Tree Classifier Accuracy: {dt_accuracy:.4f}\")\n",
        "\n",
        "# Train a Bagging Classifier using Decision Tree as base estimator\n",
        "bagging_clf = BaggingClassifier(estimator=DecisionTreeClassifier(), n_estimators=50, random_state=42)\n",
        "bagging_clf.fit(X_train, y_train)\n",
        "bagging_pred = bagging_clf.predict(X_test)\n",
        "bagging_accuracy = accuracy_score(y_test, bagging_pred)\n",
        "print(f\"Bagging Classifier Accuracy: {bagging_accuracy:.4f}\")\n"
      ],
      "metadata": {
        "colab": {
          "base_uri": "https://localhost:8080/"
        },
        "id": "c0E0nRmx6F3p",
        "outputId": "9d739e02-3135-455a-80a0-3237dc45963c"
      },
      "execution_count": 27,
      "outputs": [
        {
          "output_type": "stream",
          "name": "stdout",
          "text": [
            "Decision Tree Classifier Accuracy: 0.9474\n",
            "Bagging Classifier Accuracy: 0.9561\n"
          ]
        }
      ]
    },
    {
      "cell_type": "markdown",
      "source": [
        "###35. Train a Random Forest Classifier and visualize the confusion matrix."
      ],
      "metadata": {
        "id": "iMGbe8UG6fxL"
      }
    },
    {
      "cell_type": "code",
      "source": [
        "from sklearn.ensemble import RandomForestClassifier\n",
        "from sklearn.datasets import load_breast_cancer\n",
        "from sklearn.model_selection import train_test_split\n",
        "from sklearn.metrics import accuracy_score, confusion_matrix\n",
        "import seaborn as sns\n",
        "import matplotlib.pyplot as plt\n",
        "import numpy as np\n",
        "\n",
        "# Load the Breast Cancer dataset\n",
        "data = load_breast_cancer()\n",
        "X, y = data.data, data.target\n",
        "\n",
        "# Split into training and testing sets\n",
        "X_train, X_test, y_train, y_test = train_test_split(X, y, test_size=0.2, random_state=42)\n",
        "\n",
        "# Train a Random Forest Classifier\n",
        "rf_clf = RandomForestClassifier(n_estimators=100, random_state=42)\n",
        "rf_clf.fit(X_train, y_train)\n",
        "rf_pred = rf_clf.predict(X_test)\n",
        "rf_accuracy = accuracy_score(y_test, rf_pred)\n",
        "print(f\"Random Forest Classifier Accuracy: {rf_accuracy:.4f}\")\n",
        "\n",
        "# Compute the confusion matrix\n",
        "conf_matrix = confusion_matrix(y_test, rf_pred)\n",
        "\n",
        "# Visualize the confusion matrix\n",
        "plt.figure(figsize=(6, 4))\n",
        "sns.heatmap(conf_matrix, annot=True, fmt='d', cmap='Blues', xticklabels=data.target_names, yticklabels=data.target_names)\n",
        "plt.xlabel(\"Predicted\")\n",
        "plt.ylabel(\"Actual\")\n",
        "plt.title(\"Confusion Matrix - Random Forest Classifier\")\n",
        "plt.show()"
      ],
      "metadata": {
        "colab": {
          "base_uri": "https://localhost:8080/",
          "height": 428
        },
        "id": "s98gWjk36kYO",
        "outputId": "3234d9b7-74e4-45e3-c23c-35d9c2559028"
      },
      "execution_count": 28,
      "outputs": [
        {
          "output_type": "stream",
          "name": "stdout",
          "text": [
            "Random Forest Classifier Accuracy: 0.9649\n"
          ]
        },
        {
          "output_type": "display_data",
          "data": {
            "text/plain": [
              "<Figure size 600x400 with 2 Axes>"
            ],
            "image/png": "[encoded data removed]"
          },
          "metadata": {}
        }
      ]
    },
    {
      "cell_type": "markdown",
      "source": [
        "###36. Train a Stacking Classifier using Decision Trees, SVM, and Logistic Regression, and compare accuracy."
      ],
      "metadata": {
        "id": "RHKiIblN6sUp"
      }
    },
    {
      "cell_type": "code",
      "source": [
        "from sklearn.ensemble import StackingClassifier\n",
        "from sklearn.ensemble import RandomForestClassifier\n",
        "from sklearn.tree import DecisionTreeClassifier\n",
        "from sklearn.svm import SVC\n",
        "from sklearn.linear_model import LogisticRegression\n",
        "from sklearn.datasets import load_breast_cancer\n",
        "from sklearn.model_selection import train_test_split\n",
        "from sklearn.metrics import accuracy_score\n",
        "import numpy as np\n",
        "\n",
        "# Load the Breast Cancer dataset\n",
        "data = load_breast_cancer()\n",
        "X, y = data.data, data.target\n",
        "\n",
        "# Split into training and testing sets\n",
        "X_train, X_test, y_train, y_test = train_test_split(X, y, test_size=0.2, random_state=42)\n",
        "\n",
        "# Define base estimators\n",
        "base_estimators = [\n",
        "    ('decision_tree', DecisionTreeClassifier(random_state=42)),\n",
        "    ('svm', SVC(probability=True, random_state=42))\n",
        "]\n",
        "\n",
        "# Define meta-learner (final classifier)\n",
        "meta_learner = LogisticRegression()\n",
        "\n",
        "# Train a Stacking Classifier\n",
        "stacking_clf = StackingClassifier(estimators=base_estimators, final_estimator=meta_learner)\n",
        "stacking_clf.fit(X_train, y_train)\n",
        "stk_pred = stacking_clf.predict(X_test)\n",
        "stk_accuracy = accuracy_score(y_test, stk_pred)\n",
        "print(f\"Stacking Classifier Accuracy: {stk_accuracy:.4f}\")\n",
        "\n",
        "# Train a Random Forest Classifier for comparison\n",
        "rf_clf = RandomForestClassifier(n_estimators=100, random_state=42)\n",
        "rf_clf.fit(X_train, y_train)\n",
        "rf_pred = rf_clf.predict(X_test)\n",
        "rf_accuracy = accuracy_score(y_test, rf_pred)\n",
        "print(f\"Random Forest Classifier Accuracy: {rf_accuracy:.4f}\")"
      ],
      "metadata": {
        "colab": {
          "base_uri": "https://localhost:8080/"
        },
        "id": "PNAwjQ2K6216",
        "outputId": "576c8b55-99bc-43fe-dcc8-d26fe360c2cc"
      },
      "execution_count": 29,
      "outputs": [
        {
          "output_type": "stream",
          "name": "stdout",
          "text": [
            "Stacking Classifier Accuracy: 0.9649\n",
            "Random Forest Classifier Accuracy: 0.9649\n"
          ]
        }
      ]
    },
    {
      "cell_type": "markdown",
      "source": [
        "###37. Train a Random Forest Classifier and print the top 5 most important features."
      ],
      "metadata": {
        "id": "SyWrAfDx65B5"
      }
    },
    {
      "cell_type": "code",
      "source": [
        "from sklearn.ensemble import StackingClassifier\n",
        "from sklearn.ensemble import RandomForestClassifier\n",
        "from sklearn.tree import DecisionTreeClassifier\n",
        "from sklearn.svm import SVC\n",
        "from sklearn.linear_model import LogisticRegression\n",
        "from sklearn.datasets import load_breast_cancer\n",
        "from sklearn.model_selection import train_test_split\n",
        "from sklearn.metrics import accuracy_score\n",
        "import numpy as np\n",
        "import pandas as pd\n",
        "\n",
        "# Load the Breast Cancer dataset\n",
        "data = load_breast_cancer()\n",
        "X, y = data.data, data.target\n",
        "\n",
        "# Split into training and testing sets\n",
        "X_train, X_test, y_train, y_test = train_test_split(X, y, test_size=0.2, random_state=42)\n",
        "\n",
        "# Define base estimators\n",
        "base_estimators = [\n",
        "    ('decision_tree', DecisionTreeClassifier(random_state=42)),\n",
        "    ('svm', SVC(probability=True, random_state=42))\n",
        "]\n",
        "\n",
        "# Define meta-learner (final classifier)\n",
        "meta_learner = LogisticRegression()\n",
        "\n",
        "# Train a Stacking Classifier\n",
        "stacking_clf = StackingClassifier(estimators=base_estimators, final_estimator=meta_learner)\n",
        "stacking_clf.fit(X_train, y_train)\n",
        "stk_pred = stacking_clf.predict(X_test)\n",
        "stk_accuracy = accuracy_score(y_test, stk_pred)\n",
        "print(f\"Stacking Classifier Accuracy: {stk_accuracy:.4f}\")\n",
        "\n",
        "# Train a Random Forest Classifier for comparison\n",
        "rf_clf = RandomForestClassifier(n_estimators=100, random_state=42)\n",
        "rf_clf.fit(X_train, y_train)\n",
        "rf_pred = rf_clf.predict(X_test)\n",
        "rf_accuracy = accuracy_score(y_test, rf_pred)\n",
        "print(f\"Random Forest Classifier Accuracy: {rf_accuracy:.4f}\")\n",
        "\n",
        "# Get feature importance from Random Forest\n",
        "feature_importances = rf_clf.feature_importances_\n",
        "feature_names = data.feature_names\n",
        "\n",
        "# Create a DataFrame to sort and display top 5 features\n",
        "importance_df = pd.DataFrame({'Feature': feature_names, 'Importance': feature_importances})\n",
        "importance_df = importance_df.sort_values(by='Importance', ascending=False).head(5)\n",
        "\n",
        "print(\"Top 5 Most Important Features:\")\n",
        "print(importance_df)\n"
      ],
      "metadata": {
        "colab": {
          "base_uri": "https://localhost:8080/"
        },
        "id": "XnrPFcfR7HWO",
        "outputId": "10365584-267c-46d1-d8fe-4f6e2dfd49c4"
      },
      "execution_count": 30,
      "outputs": [
        {
          "output_type": "stream",
          "name": "stdout",
          "text": [
            "Stacking Classifier Accuracy: 0.9649\n",
            "Random Forest Classifier Accuracy: 0.9649\n",
            "Top 5 Most Important Features:\n",
            "                 Feature  Importance\n",
            "23            worst area    0.153892\n",
            "27  worst concave points    0.144663\n",
            "7    mean concave points    0.106210\n",
            "20          worst radius    0.077987\n",
            "6         mean concavity    0.068001\n"
          ]
        }
      ]
    },
    {
      "cell_type": "markdown",
      "source": [
        "###38.  Train a Bagging Classifier and evaluate performance using Precision, Recall, and F1-score."
      ],
      "metadata": {
        "id": "mQa4oi0Z7JTk"
      }
    },
    {
      "cell_type": "code",
      "source": [
        "from sklearn.ensemble import BaggingClassifier, StackingClassifier, RandomForestClassifier\n",
        "from sklearn.tree import DecisionTreeClassifier\n",
        "from sklearn.svm import SVC\n",
        "from sklearn.linear_model import LogisticRegression\n",
        "from sklearn.datasets import load_breast_cancer\n",
        "from sklearn.model_selection import train_test_split\n",
        "from sklearn.metrics import accuracy_score, precision_score, recall_score, f1_score\n",
        "import numpy as np\n",
        "import pandas as pd\n",
        "\n",
        "# Load the Breast Cancer dataset\n",
        "data = load_breast_cancer()\n",
        "X, y = data.data, data.target\n",
        "\n",
        "# Split into training and testing sets\n",
        "X_train, X_test, y_train, y_test = train_test_split(X, y, test_size=0.2, random_state=42)\n",
        "\n",
        "# Train a Bagging Classifier using Decision Tree as base estimator\n",
        "bagging_clf = BaggingClassifier(estimator=DecisionTreeClassifier(), n_estimators=50, random_state=42)\n",
        "bagging_clf.fit(X_train, y_train)\n",
        "bagging_pred = bagging_clf.predict(X_test)\n",
        "\n",
        "# Evaluate performance\n",
        "bagging_accuracy = accuracy_score(y_test, bagging_pred)\n",
        "bagging_precision = precision_score(y_test, bagging_pred)\n",
        "bagging_recall = recall_score(y_test, bagging_pred)\n",
        "bagging_f1 = f1_score(y_test, bagging_pred)\n",
        "\n",
        "print(f\"Bagging Classifier Accuracy: {bagging_accuracy:.4f}\")\n",
        "print(f\"Bagging Classifier Precision: {bagging_precision:.4f}\")\n",
        "print(f\"Bagging Classifier Recall: {bagging_recall:.4f}\")\n",
        "print(f\"Bagging Classifier F1-score: {bagging_f1:.4f}\")"
      ],
      "metadata": {
        "colab": {
          "base_uri": "https://localhost:8080/"
        },
        "id": "pwv7_xgr7QRW",
        "outputId": "94e8aa54-9088-43e4-ce9e-993818ccc8d0"
      },
      "execution_count": 31,
      "outputs": [
        {
          "output_type": "stream",
          "name": "stdout",
          "text": [
            "Bagging Classifier Accuracy: 0.9561\n",
            "Bagging Classifier Precision: 0.9583\n",
            "Bagging Classifier Recall: 0.9718\n",
            "Bagging Classifier F1-score: 0.9650\n"
          ]
        }
      ]
    },
    {
      "cell_type": "markdown",
      "source": [
        "###39. Train a Random Forest Classifier and analyze the effect of max_depth on accuracy."
      ],
      "metadata": {
        "id": "QyWIMLFU7adU"
      }
    },
    {
      "cell_type": "code",
      "source": [
        "from sklearn.ensemble import BaggingClassifier, RandomForestClassifier\n",
        "from sklearn.tree import DecisionTreeClassifier\n",
        "from sklearn.datasets import load_breast_cancer\n",
        "from sklearn.model_selection import train_test_split\n",
        "from sklearn.metrics import accuracy_score, precision_score, recall_score, f1_score\n",
        "import numpy as np\n",
        "import pandas as pd\n",
        "import matplotlib.pyplot as plt\n",
        "\n",
        "# Load the Breast Cancer dataset\n",
        "data = load_breast_cancer()\n",
        "X, y = data.data, data.target\n",
        "\n",
        "# Split into training and testing sets\n",
        "X_train, X_test, y_train, y_test = train_test_split(X, y, test_size=0.2, random_state=42)\n",
        "\n",
        "# Train a Bagging Classifier using Decision Tree as base estimator\n",
        "bagging_clf = BaggingClassifier(estimator=DecisionTreeClassifier(), n_estimators=50, random_state=42)\n",
        "bagging_clf.fit(X_train, y_train)\n",
        "bagging_pred = bagging_clf.predict(X_test)\n",
        "\n",
        "# Evaluate performance\n",
        "bagging_accuracy = accuracy_score(y_test, bagging_pred)\n",
        "bagging_precision = precision_score(y_test, bagging_pred)\n",
        "bagging_recall = recall_score(y_test, bagging_pred)\n",
        "bagging_f1 = f1_score(y_test, bagging_pred)\n",
        "\n",
        "print(f\"Bagging Classifier Accuracy: {bagging_accuracy:.4f}\")\n",
        "print(f\"Bagging Classifier Precision: {bagging_precision:.4f}\")\n",
        "print(f\"Bagging Classifier Recall: {bagging_recall:.4f}\")\n",
        "print(f\"Bagging Classifier F1-score: {bagging_f1:.4f}\")\n",
        "\n",
        "# Analyze the effect of max_depth on Random Forest accuracy\n",
        "max_depth_values = [3, 5, 10, None]\n",
        "accuracy_scores = []\n",
        "\n",
        "for depth in max_depth_values:\n",
        "    rf_clf = RandomForestClassifier(n_estimators=100, max_depth=depth, random_state=42)\n",
        "    rf_clf.fit(X_train, y_train)\n",
        "    y_pred = rf_clf.predict(X_test)\n",
        "    accuracy_scores.append(accuracy_score(y_test, y_pred))\n",
        "\n",
        "# Plot the effect of max_depth on accuracy\n",
        "plt.figure(figsize=(8, 5))\n",
        "plt.plot([str(d) for d in max_depth_values], accuracy_scores, marker='o', linestyle='-', color='b')\n",
        "plt.xlabel(\"Max Depth\")\n",
        "plt.ylabel(\"Accuracy\")\n",
        "plt.title(\"Effect of Max Depth on Random Forest Accuracy\")\n",
        "plt.show()\n"
      ],
      "metadata": {
        "colab": {
          "base_uri": "https://localhost:8080/",
          "height": 560
        },
        "id": "l8MW-eEi7e1n",
        "outputId": "5fa1c56f-dc30-4138-8d25-3590a3783792"
      },
      "execution_count": 32,
      "outputs": [
        {
          "output_type": "stream",
          "name": "stdout",
          "text": [
            "Bagging Classifier Accuracy: 0.9561\n",
            "Bagging Classifier Precision: 0.9583\n",
            "Bagging Classifier Recall: 0.9718\n",
            "Bagging Classifier F1-score: 0.9650\n"
          ]
        },
        {
          "output_type": "display_data",
          "data": {
            "text/plain": [
              "<Figure size 800x500 with 1 Axes>"
            ],
            "image/png": "[encoded data removed]"
          },
          "metadata": {}
        }
      ]
    },
    {
      "cell_type": "markdown",
      "source": [
        "###40. Train a Bagging Regressor using different base estimators (DecisionTree and KNeighbors) and compare performance."
      ],
      "metadata": {
        "id": "CX91Xebg7pGk"
      }
    },
    {
      "cell_type": "code",
      "source": [
        "from sklearn.ensemble import BaggingClassifier, BaggingRegressor, RandomForestClassifier\n",
        "from sklearn.tree import DecisionTreeClassifier\n",
        "from sklearn.neighbors import KNeighborsRegressor\n",
        "from sklearn.datasets import load_breast_cancer\n",
        "from sklearn.model_selection import train_test_split\n",
        "from sklearn.metrics import accuracy_score, precision_score, recall_score, f1_score, mean_squared_error\n",
        "import numpy as np\n",
        "import pandas as pd\n",
        "import matplotlib.pyplot as plt\n",
        "\n",
        "# Load the Breast Cancer dataset\n",
        "data = load_breast_cancer()\n",
        "X, y = data.data, data.target\n",
        "\n",
        "# Split into training and testing sets\n",
        "X_train, X_test, y_train, y_test = train_test_split(X, y, test_size=0.2, random_state=42)\n",
        "\n",
        "# Train a Bagging Classifier using Decision Tree as base estimator\n",
        "bagging_clf = BaggingClassifier(estimator=DecisionTreeClassifier(), n_estimators=50, random_state=42)\n",
        "bagging_clf.fit(X_train, y_train)\n",
        "bagging_pred = bagging_clf.predict(X_test)\n",
        "\n",
        "# Evaluate performance\n",
        "bagging_accuracy = accuracy_score(y_test, bagging_pred)\n",
        "bagging_precision = precision_score(y_test, bagging_pred)\n",
        "bagging_recall = recall_score(y_test, bagging_pred)\n",
        "bagging_f1 = f1_score(y_test, bagging_pred)\n",
        "\n",
        "print(f\"Bagging Classifier Accuracy: {bagging_accuracy:.4f}\")\n",
        "print(f\"Bagging Classifier Precision: {bagging_precision:.4f}\")\n",
        "print(f\"Bagging Classifier Recall: {bagging_recall:.4f}\")\n",
        "print(f\"Bagging Classifier F1-score: {bagging_f1:.4f}\")\n",
        "\n",
        "# Analyze the effect of max_depth on Random Forest accuracy\n",
        "max_depth_values = [3, 5, 10, None]\n",
        "accuracy_scores = []\n",
        "\n",
        "for depth in max_depth_values:\n",
        "    rf_clf = RandomForestClassifier(n_estimators=100, max_depth=depth, random_state=42)\n",
        "    rf_clf.fit(X_train, y_train)\n",
        "    y_pred = rf_clf.predict(X_test)\n",
        "    accuracy_scores.append(accuracy_score(y_test, y_pred))\n",
        "\n",
        "# Plot the effect of max_depth on accuracy\n",
        "plt.figure(figsize=(8, 5))\n",
        "plt.plot([str(d) for d in max_depth_values], accuracy_scores, marker='o', linestyle='-', color='b')\n",
        "plt.xlabel(\"Max Depth\")\n",
        "plt.ylabel(\"Accuracy\")\n",
        "plt.title(\"Effect of Max Depth on Random Forest Accuracy\")\n",
        "plt.show()\n",
        "\n",
        "# Train Bagging Regressor with Decision Tree\n",
        "bagging_regressor_dt = BaggingRegressor(estimator=DecisionTreeClassifier(), n_estimators=50, random_state=42)\n",
        "bagging_regressor_dt.fit(X_train, y_train)\n",
        "dt_pred = bagging_regressor_dt.predict(X_test)\n",
        "dt_mse = mean_squared_error(y_test, dt_pred)\n",
        "print(f\"Bagging Regressor (Decision Tree) MSE: {dt_mse:.4f}\")\n",
        "\n",
        "# Train Bagging Regressor with KNeighbors\n",
        "bagging_regressor_knn = BaggingRegressor(estimator=KNeighborsRegressor(), n_estimators=50, random_state=42)\n",
        "bagging_regressor_knn.fit(X_train, y_train)\n",
        "knn_pred = bagging_regressor_knn.predict(X_test)\n",
        "knn_mse = mean_squared_error(y_test, knn_pred)\n",
        "print(f\"Bagging Regressor (KNeighbors) MSE: {knn_mse:.4f}\")\n"
      ],
      "metadata": {
        "colab": {
          "base_uri": "https://localhost:8080/",
          "height": 596
        },
        "id": "uw13cOSW7ueF",
        "outputId": "9ac9ee7c-6535-4ffd-d3c4-653c3d517576"
      },
      "execution_count": 33,
      "outputs": [
        {
          "output_type": "stream",
          "name": "stdout",
          "text": [
            "Bagging Classifier Accuracy: 0.9561\n",
            "Bagging Classifier Precision: 0.9583\n",
            "Bagging Classifier Recall: 0.9718\n",
            "Bagging Classifier F1-score: 0.9650\n"
          ]
        },
        {
          "output_type": "display_data",
          "data": {
            "text/plain": [
              "<Figure size 800x500 with 1 Axes>"
            ],
            "image/png": "[encoded data removed]"
          },
          "metadata": {}
        },
        {
          "output_type": "stream",
          "name": "stdout",
          "text": [
            "Bagging Regressor (Decision Tree) MSE: 0.0336\n",
            "Bagging Regressor (KNeighbors) MSE: 0.0291\n"
          ]
        }
      ]
    },
    {
      "cell_type": "markdown",
      "source": [
        "###41. Train a Random Forest Classifier and evaluate its performance using ROC-AUC Score."
      ],
      "metadata": {
        "id": "PvrXDH_w8ZN1"
      }
    },
    {
      "cell_type": "code",
      "source": [
        "from sklearn.ensemble import BaggingClassifier, BaggingRegressor, RandomForestClassifier\n",
        "from sklearn.tree import DecisionTreeClassifier\n",
        "from sklearn.neighbors import KNeighborsRegressor\n",
        "from sklearn.datasets import load_breast_cancer\n",
        "from sklearn.model_selection import train_test_split\n",
        "from sklearn.metrics import accuracy_score, precision_score, recall_score, f1_score, mean_squared_error, roc_auc_score\n",
        "import numpy as np\n",
        "import pandas as pd\n",
        "import matplotlib.pyplot as plt\n",
        "\n",
        "# Load the Breast Cancer dataset\n",
        "data = load_breast_cancer()\n",
        "X, y = data.data, data.target\n",
        "\n",
        "# Split into training and testing sets\n",
        "X_train, X_test, y_train, y_test = train_test_split(X, y, test_size=0.2, random_state=42)\n",
        "\n",
        "# Train a Bagging Classifier using Decision Tree as base estimator\n",
        "bagging_clf = BaggingClassifier(estimator=DecisionTreeClassifier(), n_estimators=50, random_state=42)\n",
        "bagging_clf.fit(X_train, y_train)\n",
        "bagging_pred = bagging_clf.predict(X_test)\n",
        "\n",
        "# Evaluate performance\n",
        "bagging_accuracy = accuracy_score(y_test, bagging_pred)\n",
        "bagging_precision = precision_score(y_test, bagging_pred)\n",
        "bagging_recall = recall_score(y_test, bagging_pred)\n",
        "bagging_f1 = f1_score(y_test, bagging_pred)\n",
        "\n",
        "print(f\"Bagging Classifier Accuracy: {bagging_accuracy:.4f}\")\n",
        "print(f\"Bagging Classifier Precision: {bagging_precision:.4f}\")\n",
        "print(f\"Bagging Classifier Recall: {bagging_recall:.4f}\")\n",
        "print(f\"Bagging Classifier F1-score: {bagging_f1:.4f}\")\n",
        "\n",
        "# Analyze the effect of max_depth on Random Forest accuracy\n",
        "max_depth_values = [3, 5, 10, None]\n",
        "accuracy_scores = []\n",
        "\n",
        "for depth in max_depth_values:\n",
        "    rf_clf = RandomForestClassifier(n_estimators=100, max_depth=depth, random_state=42)\n",
        "    rf_clf.fit(X_train, y_train)\n",
        "    y_pred = rf_clf.predict(X_test)\n",
        "    accuracy_scores.append(accuracy_score(y_test, y_pred))\n",
        "\n",
        "# Plot the effect of max_depth on accuracy\n",
        "plt.figure(figsize=(8, 5))\n",
        "plt.plot([str(d) for d in max_depth_values], accuracy_scores, marker='o', linestyle='-', color='b')\n",
        "plt.xlabel(\"Max Depth\")\n",
        "plt.ylabel(\"Accuracy\")\n",
        "plt.title(\"Effect of Max Depth on Random Forest Accuracy\")\n",
        "plt.show()\n",
        "\n",
        "# Train a Random Forest Classifier and evaluate using ROC-AUC Score\n",
        "rf_clf = RandomForestClassifier(n_estimators=100, random_state=42)\n",
        "rf_clf.fit(X_train, y_train)\n",
        "y_proba = rf_clf.predict_proba(X_test)[:, 1]\n",
        "roc_auc = roc_auc_score(y_test, y_proba)\n",
        "print(f\"Random Forest Classifier ROC-AUC Score: {roc_auc:.4f}\")\n",
        "\n",
        "# Train Bagging Regressor with Decision Tree\n",
        "bagging_regressor_dt = BaggingRegressor(estimator=DecisionTreeClassifier(), n_estimators=50, random_state=42)\n",
        "bagging_regressor_dt.fit(X_train, y_train)\n",
        "dt_pred = bagging_regressor_dt.predict(X_test)\n",
        "dt_mse = mean_squared_error(y_test, dt_pred)\n",
        "print(f\"Bagging Regressor (Decision Tree) MSE: {dt_mse:.4f}\")\n",
        "\n",
        "# Train Bagging Regressor with KNeighbors\n",
        "bagging_regressor_knn = BaggingRegressor(estimator=KNeighborsRegressor(), n_estimators=50, random_state=42)\n",
        "bagging_regressor_knn.fit(X_train, y_train)\n",
        "knn_pred = bagging_regressor_knn.predict(X_test)\n",
        "knn_mse = mean_squared_error(y_test, knn_pred)\n",
        "print(f\"Bagging Regressor (KNeighbors) MSE: {knn_mse:.4f}\")"
      ],
      "metadata": {
        "colab": {
          "base_uri": "https://localhost:8080/",
          "height": 615
        },
        "id": "rN4LbWYj8bYF",
        "outputId": "76a82ea7-2d33-4548-e1e9-3dd1c54a6c5a"
      },
      "execution_count": 34,
      "outputs": [
        {
          "output_type": "stream",
          "name": "stdout",
          "text": [
            "Bagging Classifier Accuracy: 0.9561\n",
            "Bagging Classifier Precision: 0.9583\n",
            "Bagging Classifier Recall: 0.9718\n",
            "Bagging Classifier F1-score: 0.9650\n"
          ]
        },
        {
          "output_type": "display_data",
          "data": {
            "text/plain": [
              "<Figure size 800x500 with 1 Axes>"
            ],
            "image/png": "[encoded data removed]"
          },
          "metadata": {}
        },
        {
          "output_type": "stream",
          "name": "stdout",
          "text": [
            "Random Forest Classifier ROC-AUC Score: 0.9953\n",
            "Bagging Regressor (Decision Tree) MSE: 0.0336\n",
            "Bagging Regressor (KNeighbors) MSE: 0.0291\n"
          ]
        }
      ]
    },
    {
      "cell_type": "markdown",
      "source": [
        "###42. Train a Bagging Classifier and evaluate its performance using cross-validation."
      ],
      "metadata": {
        "id": "eecOhLd58vPk"
      }
    },
    {
      "cell_type": "code",
      "source": [
        "from sklearn.ensemble import BaggingClassifier, BaggingRegressor, RandomForestClassifier\n",
        "from sklearn.tree import DecisionTreeClassifier\n",
        "from sklearn.neighbors import KNeighborsRegressor\n",
        "from sklearn.datasets import load_breast_cancer\n",
        "from sklearn.model_selection import train_test_split, cross_val_score\n",
        "from sklearn.metrics import accuracy_score, precision_score, recall_score, f1_score, mean_squared_error, roc_auc_score\n",
        "import numpy as np\n",
        "import pandas as pd\n",
        "import matplotlib.pyplot as plt\n",
        "\n",
        "# Load the Breast Cancer dataset\n",
        "data = load_breast_cancer()\n",
        "X, y = data.data, data.target\n",
        "\n",
        "# Split into training and testing sets\n",
        "X_train, X_test, y_train, y_test = train_test_split(X, y, test_size=0.2, random_state=42)\n",
        "\n",
        "# Train a Bagging Classifier using Decision Tree as base estimator\n",
        "bagging_clf = BaggingClassifier(estimator=DecisionTreeClassifier(), n_estimators=50, random_state=42)\n",
        "bagging_clf.fit(X_train, y_train)\n",
        "bagging_pred = bagging_clf.predict(X_test)\n",
        "\n",
        "# Evaluate performance\n",
        "bagging_accuracy = accuracy_score(y_test, bagging_pred)\n",
        "bagging_precision = precision_score(y_test, bagging_pred)\n",
        "bagging_recall = recall_score(y_test, bagging_pred)\n",
        "bagging_f1 = f1_score(y_test, bagging_pred)\n",
        "\n",
        "print(f\"Bagging Classifier Accuracy: {bagging_accuracy:.4f}\")\n",
        "print(f\"Bagging Classifier Precision: {bagging_precision:.4f}\")\n",
        "print(f\"Bagging Classifier Recall: {bagging_recall:.4f}\")\n",
        "print(f\"Bagging Classifier F1-score: {bagging_f1:.4f}\")\n",
        "\n",
        "# Evaluate Bagging Classifier using Cross-Validation\n",
        "cv_scores = cross_val_score(bagging_clf, X, y, cv=5, scoring='accuracy')\n",
        "print(f\"Cross-Validation Accuracy Scores: {cv_scores}\")\n",
        "print(f\"Mean Cross-Validation Accuracy: {cv_scores.mean():.4f}\")\n",
        "\n",
        "# Analyze the effect of max_depth on Random Forest accuracy\n",
        "max_depth_values = [3, 5, 10, None]\n",
        "accuracy_scores = []\n",
        "\n",
        "for depth in max_depth_values:\n",
        "    rf_clf = RandomForestClassifier(n_estimators=100, max_depth=depth, random_state=42)\n",
        "    rf_clf.fit(X_train, y_train)\n",
        "    y_pred = rf_clf.predict(X_test)\n",
        "    accuracy_scores.append(accuracy_score(y_test, y_pred))\n",
        "\n",
        "# Plot the effect of max_depth on accuracy\n",
        "plt.figure(figsize=(8, 5))\n",
        "plt.plot([str(d) for d in max_depth_values], accuracy_scores, marker='o', linestyle='-', color='b')\n",
        "plt.xlabel(\"Max Depth\")\n",
        "plt.ylabel(\"Accuracy\")\n",
        "plt.title(\"Effect of Max Depth on Random Forest Accuracy\")\n",
        "plt.show()\n",
        "\n",
        "# Train a Random Forest Classifier and evaluate using ROC-AUC Score\n",
        "rf_clf = RandomForestClassifier(n_estimators=100, random_state=42)\n",
        "rf_clf.fit(X_train, y_train)\n",
        "y_proba = rf_clf.predict_proba(X_test)[:, 1]\n",
        "roc_auc = roc_auc_score(y_test, y_proba)\n",
        "print(f\"Random Forest Classifier ROC-AUC Score: {roc_auc:.4f}\")\n",
        "\n",
        "# Train Bagging Regressor with Decision Tree\n",
        "bagging_regressor_dt = BaggingRegressor(estimator=DecisionTreeClassifier(), n_estimators=50, random_state=42)\n",
        "bagging_regressor_dt.fit(X_train, y_train)\n",
        "dt_pred = bagging_regressor_dt.predict(X_test)\n",
        "dt_mse = mean_squared_error(y_test, dt_pred)\n",
        "print(f\"Bagging Regressor (Decision Tree) MSE: {dt_mse:.4f}\")\n",
        "\n",
        "# Train Bagging Regressor with KNeighbors\n",
        "bagging_regressor_knn = BaggingRegressor(estimator=KNeighborsRegressor(), n_estimators=50, random_state=42)\n",
        "bagging_regressor_knn.fit(X_train, y_train)\n",
        "knn_pred = bagging_regressor_knn.predict(X_test)\n",
        "knn_mse = mean_squared_error(y_test, knn_pred)\n",
        "print(f\"Bagging Regressor (KNeighbors) MSE: {knn_mse:.4f}\")"
      ],
      "metadata": {
        "colab": {
          "base_uri": "https://localhost:8080/",
          "height": 651
        },
        "id": "RXZfbc_r81KN",
        "outputId": "e4c1fedb-6559-4af3-a99c-e4ff4998494a"
      },
      "execution_count": 35,
      "outputs": [
        {
          "output_type": "stream",
          "name": "stdout",
          "text": [
            "Bagging Classifier Accuracy: 0.9561\n",
            "Bagging Classifier Precision: 0.9583\n",
            "Bagging Classifier Recall: 0.9718\n",
            "Bagging Classifier F1-score: 0.9650\n",
            "Cross-Validation Accuracy Scores: [0.9122807  0.92105263 0.98245614 0.95614035 1.        ]\n",
            "Mean Cross-Validation Accuracy: 0.9544\n"
          ]
        },
        {
          "output_type": "display_data",
          "data": {
            "text/plain": [
              "<Figure size 800x500 with 1 Axes>"
            ],
            "image/png": "[encoded data removed]"
          },
          "metadata": {}
        },
        {
          "output_type": "stream",
          "name": "stdout",
          "text": [
            "Random Forest Classifier ROC-AUC Score: 0.9953\n",
            "Bagging Regressor (Decision Tree) MSE: 0.0336\n",
            "Bagging Regressor (KNeighbors) MSE: 0.0291\n"
          ]
        }
      ]
    },
    {
      "cell_type": "markdown",
      "source": [
        "###43.  Train a Random Forest Classifier and plot the Precision-Recall curve."
      ],
      "metadata": {
        "id": "aoxWlvPt9Dw-"
      }
    },
    {
      "cell_type": "code",
      "source": [
        "from sklearn.ensemble import BaggingClassifier, BaggingRegressor, RandomForestClassifier\n",
        "from sklearn.tree import DecisionTreeClassifier\n",
        "from sklearn.neighbors import KNeighborsRegressor\n",
        "from sklearn.datasets import load_breast_cancer\n",
        "from sklearn.model_selection import train_test_split, cross_val_score\n",
        "from sklearn.metrics import accuracy_score, precision_score, recall_score, f1_score, mean_squared_error, roc_auc_score, precision_recall_curve\n",
        "import numpy as np\n",
        "import pandas as pd\n",
        "import matplotlib.pyplot as plt\n",
        "\n",
        "# Load the Breast Cancer dataset\n",
        "data = load_breast_cancer()\n",
        "X, y = data.data, data.target\n",
        "\n",
        "# Split into training and testing sets\n",
        "X_train, X_test, y_train, y_test = train_test_split(X, y, test_size=0.2, random_state=42)\n",
        "\n",
        "# Train a Bagging Classifier using Decision Tree as base estimator\n",
        "bagging_clf = BaggingClassifier(estimator=DecisionTreeClassifier(), n_estimators=50, random_state=42)\n",
        "bagging_clf.fit(X_train, y_train)\n",
        "bagging_pred = bagging_clf.predict(X_test)\n",
        "\n",
        "# Evaluate performance\n",
        "bagging_accuracy = accuracy_score(y_test, bagging_pred)\n",
        "bagging_precision = precision_score(y_test, bagging_pred)\n",
        "bagging_recall = recall_score(y_test, bagging_pred)\n",
        "bagging_f1 = f1_score(y_test, bagging_pred)\n",
        "\n",
        "print(f\"Bagging Classifier Accuracy: {bagging_accuracy:.4f}\")\n",
        "print(f\"Bagging Classifier Precision: {bagging_precision:.4f}\")\n",
        "print(f\"Bagging Classifier Recall: {bagging_recall:.4f}\")\n",
        "print(f\"Bagging Classifier F1-score: {bagging_f1:.4f}\")\n",
        "\n",
        "# Evaluate Bagging Classifier using Cross-Validation\n",
        "cv_scores = cross_val_score(bagging_clf, X, y, cv=5, scoring='accuracy')\n",
        "print(f\"Cross-Validation Accuracy Scores: {cv_scores}\")\n",
        "print(f\"Mean Cross-Validation Accuracy: {cv_scores.mean():.4f}\")\n",
        "\n",
        "# Analyze the effect of max_depth on Random Forest accuracy\n",
        "max_depth_values = [3, 5, 10, None]\n",
        "accuracy_scores = []\n",
        "\n",
        "for depth in max_depth_values:\n",
        "    rf_clf = RandomForestClassifier(n_estimators=100, max_depth=depth, random_state=42)\n",
        "    rf_clf.fit(X_train, y_train)\n",
        "    y_pred = rf_clf.predict(X_test)\n",
        "    accuracy_scores.append(accuracy_score(y_test, y_pred))\n",
        "\n",
        "# Plot the effect of max_depth on accuracy\n",
        "plt.figure(figsize=(8, 5))\n",
        "plt.plot([str(d) for d in max_depth_values], accuracy_scores, marker='o', linestyle='-', color='b')\n",
        "plt.xlabel(\"Max Depth\")\n",
        "plt.ylabel(\"Accuracy\")\n",
        "plt.title(\"Effect of Max Depth on Random Forest Accuracy\")\n",
        "plt.show()\n",
        "\n",
        "# Train a Random Forest Classifier and evaluate using ROC-AUC Score\n",
        "rf_clf = RandomForestClassifier(n_estimators=100, random_state=42)\n",
        "rf_clf.fit(X_train, y_train)\n",
        "y_proba = rf_clf.predict_proba(X_test)[:, 1]\n",
        "roc_auc = roc_auc_score(y_test, y_proba)\n",
        "print(f\"Random Forest Classifier ROC-AUC Score: {roc_auc:.4f}\")\n",
        "\n",
        "# Plot Precision-Recall Curve\n",
        "precision, recall, _ = precision_recall_curve(y_test, y_proba)\n",
        "plt.figure(figsize=(8, 5))\n",
        "plt.plot(recall, precision, marker='.', color='b')\n",
        "plt.xlabel(\"Recall\")\n",
        "plt.ylabel(\"Precision\")\n",
        "plt.title(\"Precision-Recall Curve for Random Forest Classifier\")\n",
        "plt.show()\n",
        "\n",
        "# Train Bagging Regressor with Decision Tree\n",
        "bagging_regressor_dt = BaggingRegressor(estimator=DecisionTreeClassifier(), n_estimators=50, random_state=42)\n",
        "bagging_regressor_dt.fit(X_train, y_train)\n",
        "dt_pred = bagging_regressor_dt.predict(X_test)\n",
        "dt_mse = mean_squared_error(y_test, dt_pred)\n",
        "print(f\"Bagging Regressor (Decision Tree) MSE: {dt_mse:.4f}\")\n",
        "\n",
        "# Train Bagging Regressor with KNeighbors\n",
        "bagging_regressor_knn = BaggingRegressor(estimator=KNeighborsRegressor(), n_estimators=50, random_state=42)\n",
        "bagging_regressor_knn.fit(X_train, y_train)\n",
        "knn_pred = bagging_regressor_knn.predict(X_test)\n",
        "knn_mse = mean_squared_error(y_test, knn_pred)\n",
        "print(f\"Bagging Regressor (KNeighbors) MSE: {knn_mse:.4f}\")\n"
      ],
      "metadata": {
        "colab": {
          "base_uri": "https://localhost:8080/",
          "height": 1000
        },
        "id": "F5E1ftJU9Jvn",
        "outputId": "b4813cf5-8001-41e6-d710-c702241c420d"
      },
      "execution_count": 36,
      "outputs": [
        {
          "output_type": "stream",
          "name": "stdout",
          "text": [
            "Bagging Classifier Accuracy: 0.9561\n",
            "Bagging Classifier Precision: 0.9583\n",
            "Bagging Classifier Recall: 0.9718\n",
            "Bagging Classifier F1-score: 0.9650\n",
            "Cross-Validation Accuracy Scores: [0.9122807  0.92105263 0.98245614 0.95614035 1.        ]\n",
            "Mean Cross-Validation Accuracy: 0.9544\n"
          ]
        },
        {
          "output_type": "display_data",
          "data": {
            "text/plain": [
              "<Figure size 800x500 with 1 Axes>"
            ],
            "image/png": "[encoded data removed]"
          },
          "metadata": {}
        },
        {
          "output_type": "stream",
          "name": "stdout",
          "text": [
            "Random Forest Classifier ROC-AUC Score: 0.9953\n"
          ]
        },
        {
          "output_type": "display_data",
          "data": {
            "text/plain": [
              "<Figure size 800x500 with 1 Axes>"
            ],
            "image/png": "[encoded data removed]"
          },
          "metadata": {}
        },
        {
          "output_type": "stream",
          "name": "stdout",
          "text": [
            "Bagging Regressor (Decision Tree) MSE: 0.0336\n",
            "Bagging Regressor (KNeighbors) MSE: 0.0291\n"
          ]
        }
      ]
    },
    {
      "cell_type": "markdown",
      "source": [
        "###44. Train a Stacking Classifier with Random Forest and Logistic Regression and compare accuracy."
      ],
      "metadata": {
        "id": "t-GR-Erw9W5d"
      }
    },
    {
      "cell_type": "code",
      "source": [
        "from sklearn.ensemble import BaggingClassifier, BaggingRegressor, RandomForestClassifier, StackingClassifier\n",
        "from sklearn.tree import DecisionTreeClassifier\n",
        "from sklearn.neighbors import KNeighborsRegressor\n",
        "from sklearn.linear_model import LogisticRegression\n",
        "from sklearn.datasets import load_breast_cancer\n",
        "from sklearn.model_selection import train_test_split, cross_val_score\n",
        "from sklearn.metrics import accuracy_score, precision_score, recall_score, f1_score, mean_squared_error, roc_auc_score, precision_recall_curve\n",
        "import numpy as np\n",
        "import pandas as pd\n",
        "import matplotlib.pyplot as plt\n",
        "\n",
        "# Load the Breast Cancer dataset\n",
        "data = load_breast_cancer()\n",
        "X, y = data.data, data.target\n",
        "\n",
        "# Split into training and testing sets\n",
        "X_train, X_test, y_train, y_test = train_test_split(X, y, test_size=0.2, random_state=42)\n",
        "\n",
        "# Train a Bagging Classifier using Decision Tree as base estimator\n",
        "bagging_clf = BaggingClassifier(estimator=DecisionTreeClassifier(), n_estimators=50, random_state=42)\n",
        "bagging_clf.fit(X_train, y_train)\n",
        "bagging_pred = bagging_clf.predict(X_test)\n",
        "\n",
        "# Evaluate performance\n",
        "bagging_accuracy = accuracy_score(y_test, bagging_pred)\n",
        "bagging_precision = precision_score(y_test, bagging_pred)\n",
        "bagging_recall = recall_score(y_test, bagging_pred)\n",
        "bagging_f1 = f1_score(y_test, bagging_pred)\n",
        "\n",
        "print(f\"Bagging Classifier Accuracy: {bagging_accuracy:.4f}\")\n",
        "print(f\"Bagging Classifier Precision: {bagging_precision:.4f}\")\n",
        "print(f\"Bagging Classifier Recall: {bagging_recall:.4f}\")\n",
        "print(f\"Bagging Classifier F1-score: {bagging_f1:.4f}\")\n",
        "\n",
        "# Evaluate Bagging Classifier using Cross-Validation\n",
        "cv_scores = cross_val_score(bagging_clf, X, y, cv=5, scoring='accuracy')\n",
        "print(f\"Cross-Validation Accuracy Scores: {cv_scores}\")\n",
        "print(f\"Mean Cross-Validation Accuracy: {cv_scores.mean():.4f}\")\n",
        "\n",
        "# Train a Stacking Classifier with Random Forest and Logistic Regression\n",
        "estimators = [\n",
        "    ('rf', RandomForestClassifier(n_estimators=100, random_state=42)),\n",
        "    ('lr', LogisticRegression(max_iter=1000, random_state=42))\n",
        "]\n",
        "stacking_clf = StackingClassifier(estimators=estimators, final_estimator=LogisticRegression(), cv=5)\n",
        "stacking_clf.fit(X_train, y_train)\n",
        "stacking_pred = stacking_clf.predict(X_test)\n",
        "stacking_accuracy = accuracy_score(y_test, stacking_pred)\n",
        "print(f\"Stacking Classifier Accuracy: {stacking_accuracy:.4f}\")\n",
        "\n",
        "# Analyze the effect of max_depth on Random Forest accuracy\n",
        "max_depth_values = [3, 5, 10, None]\n",
        "accuracy_scores = []\n",
        "\n",
        "for depth in max_depth_values:\n",
        "    rf_clf = RandomForestClassifier(n_estimators=100, max_depth=depth, random_state=42)\n",
        "    rf_clf.fit(X_train, y_train)\n",
        "    y_pred = rf_clf.predict(X_test)\n",
        "    accuracy_scores.append(accuracy_score(y_test, y_pred))\n",
        "\n",
        "# Plot the effect of max_depth on accuracy\n",
        "plt.figure(figsize=(8, 5))\n",
        "plt.plot([str(d) for d in max_depth_values], accuracy_scores, marker='o', linestyle='-', color='b')\n",
        "plt.xlabel(\"Max Depth\")\n",
        "plt.ylabel(\"Accuracy\")\n",
        "plt.title(\"Effect of Max Depth on Random Forest Accuracy\")\n",
        "plt.show()\n",
        "\n",
        "# Train a Random Forest Classifier and evaluate using ROC-AUC Score\n",
        "rf_clf = RandomForestClassifier(n_estimators=100, random_state=42)\n",
        "rf_clf.fit(X_train, y_train)\n",
        "y_proba = rf_clf.predict_proba(X_test)[:, 1]\n",
        "roc_auc = roc_auc_score(y_test, y_proba)\n",
        "print(f\"Random Forest Classifier ROC-AUC Score: {roc_auc:.4f}\")\n",
        "\n",
        "# Plot Precision-Recall Curve\n",
        "precision, recall, _ = precision_recall_curve(y_test, y_proba)\n",
        "plt.figure(figsize=(8, 5))\n",
        "plt.plot(recall, precision, marker='.', color='b')\n",
        "plt.xlabel(\"Recall\")\n",
        "plt.ylabel(\"Precision\")\n",
        "plt.title(\"Precision-Recall Curve for Random Forest Classifier\")\n",
        "plt.show()\n",
        "\n",
        "# Train Bagging Regressor with Decision Tree\n",
        "bagging_regressor_dt = BaggingRegressor(estimator=DecisionTreeClassifier(), n_estimators=50, random_state=42)\n",
        "bagging_regressor_dt.fit(X_train, y_train)\n",
        "dt_pred = bagging_regressor_dt.predict(X_test)\n",
        "dt_mse = mean_squared_error(y_test, dt_pred)\n",
        "print(f\"Bagging Regressor (Decision Tree) MSE: {dt_mse:.4f}\")\n",
        "\n",
        "# Train Bagging Regressor with KNeighbors\n",
        "bagging_regressor_knn = BaggingRegressor(estimator=KNeighborsRegressor(), n_estimators=50, random_state=42)\n",
        "bagging_regressor_knn.fit(X_train, y_train)\n",
        "knn_pred = bagging_regressor_knn.predict(X_test)\n",
        "knn_mse = mean_squared_error(y_test, knn_pred)\n",
        "print(f\"Bagging Regressor (KNeighbors) MSE: {knn_mse:.4f}\")"
      ],
      "metadata": {
        "colab": {
          "base_uri": "https://localhost:8080/",
          "height": 1000
        },
        "id": "gmkn-AMU9htW",
        "outputId": "f5fbc261-fb20-4f2a-fbf6-fe0dbe0b35c7"
      },
      "execution_count": 37,
      "outputs": [
        {
          "output_type": "stream",
          "name": "stdout",
          "text": [
            "Bagging Classifier Accuracy: 0.9561\n",
            "Bagging Classifier Precision: 0.9583\n",
            "Bagging Classifier Recall: 0.9718\n",
            "Bagging Classifier F1-score: 0.9650\n",
            "Cross-Validation Accuracy Scores: [0.9122807  0.92105263 0.98245614 0.95614035 1.        ]\n",
            "Mean Cross-Validation Accuracy: 0.9544\n"
          ]
        },
        {
          "output_type": "stream",
          "name": "stderr",
          "text": [
            "/usr/local/lib/python3.11/dist-packages/sklearn/linear_model/_logistic.py:465: ConvergenceWarning: lbfgs failed to converge (status=1):\n",
            "STOP: TOTAL NO. of ITERATIONS REACHED LIMIT.\n",
            "\n",
            "Increase the number of iterations (max_iter) or scale the data as shown in:\n",
            "    https://scikit-learn.org/stable/modules/preprocessing.html\n",
            "Please also refer to the documentation for alternative solver options:\n",
            "    https://scikit-learn.org/stable/modules/linear_model.html#logistic-regression\n",
            "  n_iter_i = _check_optimize_result(\n",
            "/usr/local/lib/python3.11/dist-packages/sklearn/linear_model/_logistic.py:465: ConvergenceWarning: lbfgs failed to converge (status=1):\n",
            "STOP: TOTAL NO. of ITERATIONS REACHED LIMIT.\n",
            "\n",
            "Increase the number of iterations (max_iter) or scale the data as shown in:\n",
            "    https://scikit-learn.org/stable/modules/preprocessing.html\n",
            "Please also refer to the documentation for alternative solver options:\n",
            "    https://scikit-learn.org/stable/modules/linear_model.html#logistic-regression\n",
            "  n_iter_i = _check_optimize_result(\n",
            "/usr/local/lib/python3.11/dist-packages/sklearn/linear_model/_logistic.py:465: ConvergenceWarning: lbfgs failed to converge (status=1):\n",
            "STOP: TOTAL NO. of ITERATIONS REACHED LIMIT.\n",
            "\n",
            "Increase the number of iterations (max_iter) or scale the data as shown in:\n",
            "    https://scikit-learn.org/stable/modules/preprocessing.html\n",
            "Please also refer to the documentation for alternative solver options:\n",
            "    https://scikit-learn.org/stable/modules/linear_model.html#logistic-regression\n",
            "  n_iter_i = _check_optimize_result(\n",
            "/usr/local/lib/python3.11/dist-packages/sklearn/linear_model/_logistic.py:465: ConvergenceWarning: lbfgs failed to converge (status=1):\n",
            "STOP: TOTAL NO. of ITERATIONS REACHED LIMIT.\n",
            "\n",
            "Increase the number of iterations (max_iter) or scale the data as shown in:\n",
            "    https://scikit-learn.org/stable/modules/preprocessing.html\n",
            "Please also refer to the documentation for alternative solver options:\n",
            "    https://scikit-learn.org/stable/modules/linear_model.html#logistic-regression\n",
            "  n_iter_i = _check_optimize_result(\n",
            "/usr/local/lib/python3.11/dist-packages/sklearn/linear_model/_logistic.py:465: ConvergenceWarning: lbfgs failed to converge (status=1):\n",
            "STOP: TOTAL NO. of ITERATIONS REACHED LIMIT.\n",
            "\n",
            "Increase the number of iterations (max_iter) or scale the data as shown in:\n",
            "    https://scikit-learn.org/stable/modules/preprocessing.html\n",
            "Please also refer to the documentation for alternative solver options:\n",
            "    https://scikit-learn.org/stable/modules/linear_model.html#logistic-regression\n",
            "  n_iter_i = _check_optimize_result(\n",
            "/usr/local/lib/python3.11/dist-packages/sklearn/linear_model/_logistic.py:465: ConvergenceWarning: lbfgs failed to converge (status=1):\n",
            "STOP: TOTAL NO. of ITERATIONS REACHED LIMIT.\n",
            "\n",
            "Increase the number of iterations (max_iter) or scale the data as shown in:\n",
            "    https://scikit-learn.org/stable/modules/preprocessing.html\n",
            "Please also refer to the documentation for alternative solver options:\n",
            "    https://scikit-learn.org/stable/modules/linear_model.html#logistic-regression\n",
            "  n_iter_i = _check_optimize_result(\n"
          ]
        },
        {
          "output_type": "stream",
          "name": "stdout",
          "text": [
            "Stacking Classifier Accuracy: 0.9649\n"
          ]
        },
        {
          "output_type": "display_data",
          "data": {
            "text/plain": [
              "<Figure size 800x500 with 1 Axes>"
            ],
            "image/png": "[encoded data removed]"
          },
          "metadata": {}
        },
        {
          "output_type": "stream",
          "name": "stdout",
          "text": [
            "Random Forest Classifier ROC-AUC Score: 0.9953\n"
          ]
        },
        {
          "output_type": "display_data",
          "data": {
            "text/plain": [
              "<Figure size 800x500 with 1 Axes>"
            ],
            "image/png": "[encoded data removed]"
          },
          "metadata": {}
        },
        {
          "output_type": "stream",
          "name": "stdout",
          "text": [
            "Bagging Regressor (Decision Tree) MSE: 0.0336\n",
            "Bagging Regressor (KNeighbors) MSE: 0.0291\n"
          ]
        }
      ]
    },
    {
      "cell_type": "markdown",
      "source": [
        "###45. Train a Bagging Regressor with different levels of bootstrap samples and compare performance."
      ],
      "metadata": {
        "id": "QBaNhGd69oBj"
      }
    },
    {
      "cell_type": "code",
      "source": [
        "from sklearn.ensemble import BaggingClassifier, BaggingRegressor, RandomForestClassifier, StackingClassifier\n",
        "from sklearn.tree import DecisionTreeClassifier\n",
        "from sklearn.neighbors import KNeighborsRegressor\n",
        "from sklearn.linear_model import LogisticRegression\n",
        "from sklearn.datasets import load_breast_cancer\n",
        "from sklearn.model_selection import train_test_split, cross_val_score\n",
        "from sklearn.metrics import accuracy_score, precision_score, recall_score, f1_score, mean_squared_error, roc_auc_score, precision_recall_curve\n",
        "import numpy as np\n",
        "import pandas as pd\n",
        "import matplotlib.pyplot as plt\n",
        "\n",
        "# Load the Breast Cancer dataset\n",
        "data = load_breast_cancer()\n",
        "X, y = data.data, data.target\n",
        "\n",
        "# Split into training and testing sets\n",
        "X_train, X_test, y_train, y_test = train_test_split(X, y, test_size=0.2, random_state=42)\n",
        "\n",
        "# Train a Bagging Classifier using Decision Tree as base estimator\n",
        "bagging_clf = BaggingClassifier(estimator=DecisionTreeClassifier(), n_estimators=50, random_state=42)\n",
        "bagging_clf.fit(X_train, y_train)\n",
        "bagging_pred = bagging_clf.predict(X_test)\n",
        "\n",
        "# Evaluate performance\n",
        "bagging_accuracy = accuracy_score(y_test, bagging_pred)\n",
        "bagging_precision = precision_score(y_test, bagging_pred)\n",
        "bagging_recall = recall_score(y_test, bagging_pred)\n",
        "bagging_f1 = f1_score(y_test, bagging_pred)\n",
        "\n",
        "print(f\"Bagging Classifier Accuracy: {bagging_accuracy:.4f}\")\n",
        "print(f\"Bagging Classifier Precision: {bagging_precision:.4f}\")\n",
        "print(f\"Bagging Classifier Recall: {bagging_recall:.4f}\")\n",
        "print(f\"Bagging Classifier F1-score: {bagging_f1:.4f}\")\n",
        "\n",
        "# Evaluate Bagging Classifier using Cross-Validation\n",
        "cv_scores = cross_val_score(bagging_clf, X, y, cv=5, scoring='accuracy')\n",
        "print(f\"Cross-Validation Accuracy Scores: {cv_scores}\")\n",
        "print(f\"Mean Cross-Validation Accuracy: {cv_scores.mean():.4f}\")\n",
        "\n",
        "# Train a Stacking Classifier with Random Forest and Logistic Regression\n",
        "estimators = [\n",
        "    ('rf', RandomForestClassifier(n_estimators=100, random_state=42)),\n",
        "    ('lr', LogisticRegression(max_iter=1000, random_state=42))\n",
        "]\n",
        "stacking_clf = StackingClassifier(estimators=estimators, final_estimator=LogisticRegression(), cv=5)\n",
        "stacking_clf.fit(X_train, y_train)\n",
        "stacking_pred = stacking_clf.predict(X_test)\n",
        "stacking_accuracy = accuracy_score(y_test, stacking_pred)\n",
        "print(f\"Stacking Classifier Accuracy: {stacking_accuracy:.4f}\")\n",
        "\n",
        "# Train Bagging Regressor with different bootstrap samples\n",
        "bootstrap_samples = [True, False]\n",
        "for bootstrap in bootstrap_samples:\n",
        "    bagging_regressor = BaggingRegressor(estimator=DecisionTreeClassifier(), n_estimators=50, bootstrap=bootstrap, random_state=42)\n",
        "    bagging_regressor.fit(X_train, y_train)\n",
        "    y_pred = bagging_regressor.predict(X_test)\n",
        "    mse = mean_squared_error(y_test, y_pred)\n",
        "    print(f\"Bagging Regressor with bootstrap={bootstrap} MSE: {mse:.4f}\")\n"
      ],
      "metadata": {
        "colab": {
          "base_uri": "https://localhost:8080/"
        },
        "id": "9PLgbI0n-Lm5",
        "outputId": "c39928bd-dc46-4fc6-c3cf-282e3e940beb"
      },
      "execution_count": 40,
      "outputs": [
        {
          "output_type": "stream",
          "name": "stdout",
          "text": [
            "Bagging Classifier Accuracy: 0.9561\n",
            "Bagging Classifier Precision: 0.9583\n",
            "Bagging Classifier Recall: 0.9718\n",
            "Bagging Classifier F1-score: 0.9650\n",
            "Cross-Validation Accuracy Scores: [0.9122807  0.92105263 0.98245614 0.95614035 1.        ]\n",
            "Mean Cross-Validation Accuracy: 0.9544\n"
          ]
        },
        {
          "output_type": "stream",
          "name": "stderr",
          "text": [
            "/usr/local/lib/python3.11/dist-packages/sklearn/linear_model/_logistic.py:465: ConvergenceWarning: lbfgs failed to converge (status=1):\n",
            "STOP: TOTAL NO. of ITERATIONS REACHED LIMIT.\n",
            "\n",
            "Increase the number of iterations (max_iter) or scale the data as shown in:\n",
            "    https://scikit-learn.org/stable/modules/preprocessing.html\n",
            "Please also refer to the documentation for alternative solver options:\n",
            "    https://scikit-learn.org/stable/modules/linear_model.html#logistic-regression\n",
            "  n_iter_i = _check_optimize_result(\n",
            "/usr/local/lib/python3.11/dist-packages/sklearn/linear_model/_logistic.py:465: ConvergenceWarning: lbfgs failed to converge (status=1):\n",
            "STOP: TOTAL NO. of ITERATIONS REACHED LIMIT.\n",
            "\n",
            "Increase the number of iterations (max_iter) or scale the data as shown in:\n",
            "    https://scikit-learn.org/stable/modules/preprocessing.html\n",
            "Please also refer to the documentation for alternative solver options:\n",
            "    https://scikit-learn.org/stable/modules/linear_model.html#logistic-regression\n",
            "  n_iter_i = _check_optimize_result(\n",
            "/usr/local/lib/python3.11/dist-packages/sklearn/linear_model/_logistic.py:465: ConvergenceWarning: lbfgs failed to converge (status=1):\n",
            "STOP: TOTAL NO. of ITERATIONS REACHED LIMIT.\n",
            "\n",
            "Increase the number of iterations (max_iter) or scale the data as shown in:\n",
            "    https://scikit-learn.org/stable/modules/preprocessing.html\n",
            "Please also refer to the documentation for alternative solver options:\n",
            "    https://scikit-learn.org/stable/modules/linear_model.html#logistic-regression\n",
            "  n_iter_i = _check_optimize_result(\n",
            "/usr/local/lib/python3.11/dist-packages/sklearn/linear_model/_logistic.py:465: ConvergenceWarning: lbfgs failed to converge (status=1):\n",
            "STOP: TOTAL NO. of ITERATIONS REACHED LIMIT.\n",
            "\n",
            "Increase the number of iterations (max_iter) or scale the data as shown in:\n",
            "    https://scikit-learn.org/stable/modules/preprocessing.html\n",
            "Please also refer to the documentation for alternative solver options:\n",
            "    https://scikit-learn.org/stable/modules/linear_model.html#logistic-regression\n",
            "  n_iter_i = _check_optimize_result(\n",
            "/usr/local/lib/python3.11/dist-packages/sklearn/linear_model/_logistic.py:465: ConvergenceWarning: lbfgs failed to converge (status=1):\n",
            "STOP: TOTAL NO. of ITERATIONS REACHED LIMIT.\n",
            "\n",
            "Increase the number of iterations (max_iter) or scale the data as shown in:\n",
            "    https://scikit-learn.org/stable/modules/preprocessing.html\n",
            "Please also refer to the documentation for alternative solver options:\n",
            "    https://scikit-learn.org/stable/modules/linear_model.html#logistic-regression\n",
            "  n_iter_i = _check_optimize_result(\n",
            "/usr/local/lib/python3.11/dist-packages/sklearn/linear_model/_logistic.py:465: ConvergenceWarning: lbfgs failed to converge (status=1):\n",
            "STOP: TOTAL NO. of ITERATIONS REACHED LIMIT.\n",
            "\n",
            "Increase the number of iterations (max_iter) or scale the data as shown in:\n",
            "    https://scikit-learn.org/stable/modules/preprocessing.html\n",
            "Please also refer to the documentation for alternative solver options:\n",
            "    https://scikit-learn.org/stable/modules/linear_model.html#logistic-regression\n",
            "  n_iter_i = _check_optimize_result(\n"
          ]
        },
        {
          "output_type": "stream",
          "name": "stdout",
          "text": [
            "Stacking Classifier Accuracy: 0.9649\n",
            "Bagging Regressor with bootstrap=True MSE: 0.0336\n",
            "Bagging Regressor with bootstrap=False MSE: 0.0562\n"
          ]
        }
      ]
    }
  ]
}